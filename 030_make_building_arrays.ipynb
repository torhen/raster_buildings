{
 "cells": [
  {
   "cell_type": "code",
   "execution_count": 1,
   "metadata": {},
   "outputs": [],
   "source": [
    "%matplotlib inline\n",
    "import pandas as pd\n",
    "import pathlib\n",
    "import geopandas as gpd\n",
    "import numpy as np\n",
    "from matplotlib import pyplot as plt\n",
    "import mio"
   ]
  },
  {
   "cell_type": "code",
   "execution_count": 2,
   "metadata": {},
   "outputs": [],
   "source": [
    "def tri_array(p0, p1, p2, area, px, py):\n",
    "    p0x, p0y = p0\n",
    "    p1x, p1y = p1\n",
    "    p2x, p2y = p2\n",
    "    \n",
    "    # do the calc, using stolen formula\n",
    "    s = 1/(2*area)*(p0y*p2x - p0x*p2y + (p2y - p0y)*px + (p0x - p2x)*py)\n",
    "    t = 1/(2*area)*(p0x*p1y - p0y*p1x + (p0y - p1y)*px + (p1x - p0x)*py)\n",
    "    u = 1 - s -t\n",
    "    r = (s>0) & (t>0) & (u>0)\n",
    "    \n",
    "    return r.astype(int)"
   ]
  },
  {
   "cell_type": "code",
   "execution_count": 3,
   "metadata": {},
   "outputs": [],
   "source": [
    "def create_mesh(df):\n",
    "    # calc boundaries of building\n",
    "    xmin = int(min(df.x0.min(), df.x1.min(), df.x2.min()) - 1)\n",
    "    xmax = int(max(df.x0.max(), df.x1.max(), df.x2.max()) + 1)\n",
    "    ymin = int(min(df.y0.min(), df.y1.min(), df.y2.min()) - 1)\n",
    "    ymax = int(max(df.y0.max(), df.y1.max(), df.y2.max()) + 1)\n",
    "\n",
    "    x = np.arange(xmin, xmax + 1, 1)\n",
    "    y = np.arange(ymin, ymax + 1, 1)\n",
    "    px, py = np.meshgrid(x, y)\n",
    "    return px, py"
   ]
  },
  {
   "cell_type": "code",
   "execution_count": 4,
   "metadata": {},
   "outputs": [],
   "source": [
    "def signed_area(p0, p1, p2):\n",
    "        # calc signed area of triangle\n",
    "        p0x, p0y = p0\n",
    "        p1x, p1y = p1\n",
    "        p2x, p2y = p2\n",
    "\n",
    "        return 0.5 *(-p1y*p2x + p0y*(-p1x + p2x) + p0x*(p1y - p2y) + p1x*p2y)"
   ]
  },
  {
   "cell_type": "code",
   "execution_count": 5,
   "metadata": {},
   "outputs": [],
   "source": [
    "def make_building_raster(source):\n",
    "    df = pd.read_csv(source)\n",
    "    px, py = create_mesh(df)\n",
    "\n",
    "    lr = []\n",
    "    for ind, row in df.iterrows():\n",
    "        p0 = row.x0, row.y0\n",
    "        p1 = row.x1, row.y1\n",
    "        p2 = row.x2, row.y2\n",
    "\n",
    "        area = signed_area(p0, p1, p2)\n",
    "        if area != 0:\n",
    "            tri_raster = tri_array(p0, p1, p2, area, px, py)\n",
    "            lr.append(tri_raster)\n",
    "\n",
    "    res = lr[0]\n",
    "    for r in lr[1:]:\n",
    "        res = np.maximum(res, r)\n",
    "    lon = df.lon.iloc[0]\n",
    "    lat = df.lat.iloc[0]\n",
    "    return res, lon, lat"
   ]
  },
  {
   "cell_type": "code",
   "execution_count": 6,
   "metadata": {},
   "outputs": [
    {
     "data": {
      "text/plain": [
       "13186"
      ]
     },
     "execution_count": 6,
     "metadata": {},
     "output_type": "execute_result"
    }
   ],
   "source": [
    "tris = list(pathlib.Path('tri').glob('*.tri'))\n",
    "len(tris)"
   ]
  },
  {
   "cell_type": "code",
   "execution_count": null,
   "metadata": {},
   "outputs": [
    {
     "name": "stdout",
     "output_type": "stream",
     "text": [
      "0.0% 0.76% 1.52% 2.28% 3.03% 3.79% 4.55% 5.31% 6.07% 6.83% 7.58% 8.34% 9.1% 9.86% 10.62% 11.38% 12.13% 12.89% 13.65% 14.41% 15.17% 15.93% 16.68% 17.44% 18.2% 18.96% 19.72% 20.48% 21.23% 21.99% 22.75% 23.51% 24.27% 25.03% 25.78% 26.54% 27.3% 28.06% 28.82% 29.58% 30.34% 31.09% 31.85% 32.61% 33.37% 34.13% "
     ]
    }
   ],
   "source": [
    "for i, tri in enumerate(tris[0:]):\n",
    "    mio.show_perc(i, len(tris), 100)\n",
    "    r, lon, lat = make_building_raster(tri)\n",
    "    \n",
    "    x_swiss, y_swiss = mio.wgs_swiss(lon, lat)\n",
    "    x_swiss, y_swiss = round(x_swiss), round(y_swiss)\n",
    "    \n",
    "    dest = 'tif/' + tri.stem + '.tif'\n",
    "    \n",
    "    df = pd.DataFrame(r)\n",
    "    \n",
    "    ys , xs = df.shape\n",
    "    \n",
    "    # TODO: exactly find 0, 0 point\n",
    "    \n",
    "    df.columns = df.columns + x_swiss - int(xs / 2)\n",
    "    df.index = df.index + y_swiss - int(ys / 2)\n",
    "    df = df.sort_index(ascending=False)\n",
    "    mio.write_raster((df * 200).astype('uint8'), dest)"
   ]
  },
  {
   "cell_type": "code",
   "execution_count": null,
   "metadata": {},
   "outputs": [],
   "source": []
  }
 ],
 "metadata": {
  "kernelspec": {
   "display_name": "Python 3",
   "language": "python",
   "name": "python3"
  },
  "language_info": {
   "codemirror_mode": {
    "name": "ipython",
    "version": 3
   },
   "file_extension": ".py",
   "mimetype": "text/x-python",
   "name": "python",
   "nbconvert_exporter": "python",
   "pygments_lexer": "ipython3",
   "version": "3.7.1"
  }
 },
 "nbformat": 4,
 "nbformat_minor": 2
}
