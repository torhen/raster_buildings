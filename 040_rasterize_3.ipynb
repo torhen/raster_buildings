{
 "cells": [
  {
   "cell_type": "code",
   "execution_count": 1,
   "metadata": {},
   "outputs": [],
   "source": [
    "pattern = '*3.tab'"
   ]
  },
  {
   "cell_type": "code",
   "execution_count": 2,
   "metadata": {},
   "outputs": [],
   "source": [
    "import pandas as pd\n",
    "import geopandas as gpd\n",
    "import mio\n",
    "import numpy as np\n",
    "from matplotlib import pyplot as plt\n",
    "import pathlib\n",
    "import time"
   ]
  },
  {
   "cell_type": "code",
   "execution_count": 3,
   "metadata": {},
   "outputs": [],
   "source": [
    "def tri_array(p0, p1, p2, area, px, py):\n",
    "    \n",
    "    r_shape = tri_shape(p0, p1, p2, area, px, py)\n",
    "    r_heights = tri_heights(p0, p1, p2, area, px, py)\n",
    "    \n",
    "    return r_shape * r_heights"
   ]
  },
  {
   "cell_type": "code",
   "execution_count": 4,
   "metadata": {},
   "outputs": [],
   "source": [
    "def tri_heights(p0, p1, p2, area, px, py):\n",
    "    # calculate the triangle plane\n",
    "    Ax, Ay, Az = p0\n",
    "    Bx, By, Bz = p1\n",
    "    Cx, Cy, Cz = p2\n",
    "    \n",
    "    AB = (Bx - Ax, By - Ay, Bz - Az)\n",
    "    AC = (Cx - Ax, Cy - Ay, Cz - Az)\n",
    "    \n",
    "    # AB x AC = (a,b,c)\n",
    "    # Plane equasion: ax + by + cz + d = 0\n",
    "    a, b, c = np.cross(AB, AC)\n",
    "    d = -(a * Ax + b * Ay + c * Az)\n",
    " \n",
    "    pz  = (-a * px - b * py - d) / c\n",
    "\n",
    "    return pz"
   ]
  },
  {
   "cell_type": "raw",
   "metadata": {},
   "source": [
    "# test tri_heights\n",
    "p0 = (0,0,3)\n",
    "p1 = (1,0,3)\n",
    "p2 = (0,1,3)\n",
    "\n",
    "x = np.arange(-5, 5, 1)\n",
    "y = np.arange(-5, 5, 1)\n",
    "px, py = np.meshgrid(x, y)\n",
    "\n",
    "tri_heights(p0, p1, p2, 0, px, py)"
   ]
  },
  {
   "cell_type": "code",
   "execution_count": 5,
   "metadata": {},
   "outputs": [],
   "source": [
    "def tri_shape(p0, p1, p2, area, px, py):\n",
    "    # calc the outline of the triangles\n",
    "    p0x, p0y, _ = p0\n",
    "    p1x, p1y, _ = p1\n",
    "    p2x, p2y, _ = p2\n",
    "    \n",
    "    # do the calc, using stolen formula\n",
    "    s = 1/(2*area)*(p0y*p2x - p0x*p2y + (p2y - p0y)*px + (p0x - p2x)*py)\n",
    "    t = 1/(2*area)*(p0x*p1y - p0y*p1x + (p0y - p1y)*px + (p1x - p0x)*py)\n",
    "    u = 1 - s -t\n",
    "    r = (s>0) & (t>0) & (u>0)\n",
    "    \n",
    "    return r.astype(int)"
   ]
  },
  {
   "cell_type": "code",
   "execution_count": 6,
   "metadata": {},
   "outputs": [],
   "source": [
    "def signed_area(p0, p1, p2):\n",
    "        # calc signed area of triangle\n",
    "        p0x, p0y, _ = p0\n",
    "        p1x, p1y, _ = p1\n",
    "        p2x, p2y, _ = p2\n",
    "        \n",
    "        a = 0.5 *(-p1y*p2x + p0y*(-p1x + p2x) + p0x*(p1y - p2y) + p1x*p2y)\n",
    "\n",
    "        return a"
   ]
  },
  {
   "cell_type": "code",
   "execution_count": 7,
   "metadata": {},
   "outputs": [],
   "source": [
    "def create_meshgrid(p0, p1, p2):\n",
    "    xmin = int(min(p0[0], p1[0], p2[0])) -1\n",
    "    xmax = int(max(p0[0], p1[0], p2[0])) +1\n",
    "    ymin = int(min(p0[1], p1[1], p2[1])) -1\n",
    "    ymax = int(max(p0[1], p1[1], p2[1])) +1\n",
    "    df = pd.DataFrame(\n",
    "        columns = range(xmin, xmax, 1),\n",
    "        index = range(ymax, ymin, -1),\n",
    "        data = 0\n",
    "    )\n",
    "    xa = np.arange(xmin, xmax,  1)\n",
    "    ya = np.arange(ymax, ymin, -1)\n",
    "    px, py = np.meshgrid(xa, ya)\n",
    "    return xa, ya, px, py"
   ]
  },
  {
   "cell_type": "code",
   "execution_count": 8,
   "metadata": {},
   "outputs": [],
   "source": [
    "def get_df_list(tab):\n",
    "    print(f'reading {tab}', end=' ')\n",
    "    vec = gpd.read_file(tab)\n",
    "    ldf = []\n",
    "    count_ok = 0\n",
    "    count_er = 0\n",
    "    \n",
    "    i = 0\n",
    "    print(len(vec) / 1e3, 'x 1000 triangles')\n",
    "    print('create mini rasters')\n",
    "    for ind, row in vec.iterrows():\n",
    "        i += 1\n",
    "        mio.show_perc(i, len(vec), 10000)\n",
    "        p0 = (row.x0, row.y0, row.z0)\n",
    "        p1 = (row.x1, row.y1, row.z1)\n",
    "        p2 = (row.x2, row.y2, row.z2)\n",
    "\n",
    "        xa, ya, px, py = create_meshgrid(p0, p1, p2)\n",
    "\n",
    "        area = signed_area(p0, p1, p2)\n",
    "\n",
    "        # get rid of mini areas\n",
    "        if area >= 0.5:\n",
    "            count_ok += 1\n",
    "            ar = tri_array(p0, p1, p2, area, px, py)\n",
    "            df = pd.DataFrame(ar, columns=xa, index=ya)\n",
    "            if len(df) > 0:\n",
    "                ldf.append(df)\n",
    "        else:\n",
    "            # propably vertical\n",
    "            count_er += 1\n",
    "    return ldf"
   ]
  },
  {
   "cell_type": "code",
   "execution_count": 9,
   "metadata": {},
   "outputs": [],
   "source": [
    "def get_big_empty(ldf):\n",
    "    lx, ly = [], []\n",
    "    for df in ldf:\n",
    "        lx.append(df.columns.min())\n",
    "        lx.append(df.columns.max())\n",
    "        ly.append(df.index.min())\n",
    "        ly.append(df.index.max())\n",
    "    xmin, xmax = min(lx)-5, max(lx)+5\n",
    "    ymin, ymax = min(ly)-5, max(ly)+5\n",
    "    \n",
    "    empty = pd.DataFrame(\n",
    "        columns = range(xmin, xmax, 1),\n",
    "        index = range(ymax, ymin, -1),\n",
    "        data = 0\n",
    "    )\n",
    "    return empty"
   ]
  },
  {
   "cell_type": "code",
   "execution_count": 10,
   "metadata": {},
   "outputs": [],
   "source": [
    "def get_tag_todo():\n",
    "    source_dir = pathlib.Path('../sb_tab')\n",
    "    tags_all = set([d.stem for d in source_dir.glob(pattern)])\n",
    "\n",
    "    dest_dir = pathlib.Path('../sb_tif')\n",
    "    tags_done =  set([t.stem[0:7] for t in dest_dir.glob('*.tif')])\n",
    "    #print(tags_done)\n",
    "\n",
    "    tags_todo = tags_all.difference(tags_done)\n",
    "    #print(tags_todo)\n",
    "    l = list(tags_todo)\n",
    "    l.sort()\n",
    "    if len(l) >0:\n",
    "        print(f\"{len(l)} files to do\")\n",
    "        return l[0]\n",
    "    else:\n",
    "        return"
   ]
  },
  {
   "cell_type": "code",
   "execution_count": 11,
   "metadata": {},
   "outputs": [
    {
     "name": "stdout",
     "output_type": "stream",
     "text": [
      "619 files to do\n"
     ]
    },
    {
     "data": {
      "text/plain": [
       "'1127-13'"
      ]
     },
     "execution_count": 11,
     "metadata": {},
     "output_type": "execute_result"
    }
   ],
   "source": [
    "get_tag_todo()"
   ]
  },
  {
   "cell_type": "code",
   "execution_count": null,
   "metadata": {},
   "outputs": [
    {
     "name": "stdout",
     "output_type": "stream",
     "text": [
      "619 files to do\n",
      "reading ../sb_tab/1127-13.tab 89.39 x 1000 triangles\n",
      "create mini rasters\n",
      "11.19% 22.37% 33.56% 44.75% 55.93% 67.12% 78.31% 89.5% \n",
      "combining all the mini rasters\n",
      "0.0% 9.62% 19.24% 28.86% 38.48% 48.1% 57.72% 67.34% 76.96% 86.58% 96.2% writing 1127-13_raster.tif\n",
      "618 files to do\n",
      "reading ../sb_tab/1127-23.tab 198.372 x 1000 triangles\n",
      "create mini rasters\n",
      "5.04% 10.08% 15.12% 20.16% 25.21% 30.25% 35.29% 40.33% 45.37% 50.41% 55.45% 60.49% 65.53% 70.57% 75.62% 80.66% 85.7% 90.74% 95.78% \n",
      "combining all the mini rasters\n",
      "0.0% 4.5% 8.99% 13.49% 17.98% 22.48% 26.98% 31.47% 35.97% 40.47% 44.96% 49.46% 53.95% 58.45% 62.95% 67.44% 71.94% 76.44% 80.93% 85.43% 89.92% 94.42% 98.92% writing 1127-23_raster.tif\n",
      "617 files to do\n",
      "reading ../sb_tab/1127-33.tab 51.798 x 1000 triangles\n",
      "create mini rasters\n",
      "19.31% 38.61% 57.92% 77.22% 96.53% \n",
      "combining all the mini rasters\n",
      "0.0% 16.51% 33.01% 49.52% 66.03% 82.54% 99.04% writing 1127-33_raster.tif\n",
      "616 files to do\n",
      "reading ../sb_tab/1127-43.tab 119.508 x 1000 triangles\n",
      "create mini rasters\n",
      "8.37% 16.74% 25.1% 33.47% 41.84% 50.21% 58.57% 66.94% 75.31% 83.68% 92.04% \n",
      "combining all the mini rasters\n",
      "0.0% 6.92% 13.84% 20.75% 27.67% 34.59% 41.51% 48.43% 55.35% 62.26% 69.18% 76.1% 83.02% 89.94% 96.86% writing 1127-43_raster.tif\n",
      "615 files to do\n",
      "reading ../sb_tab/1128-13.tab 167.047 x 1000 triangles\n",
      "create mini rasters\n",
      "5.99% 11.97% 17.96% 23.95% 29.93% 35.92% 41.9% 47.89% 53.88% 59.86% 65.85% 71.84% 77.82% 83.81% 89.8% 95.78% \n",
      "combining all the mini rasters\n",
      "0.0% 6.66% 13.32% 19.99% 26.65% 33.31% 39.97% 46.63% 53.3% "
     ]
    }
   ],
   "source": [
    "# MAIN\n",
    "while True:\n",
    "    tag = get_tag_todo()\n",
    "    if tag is not None:\n",
    "        # Create list of mini dataframes\n",
    "        ldf = get_df_list(f'../sb_tab/{tag}.tab')\n",
    "\n",
    "        # Create empty raster\n",
    "        big = get_big_empty(ldf)\n",
    "\n",
    "        print('\\ncombining all the mini rasters')\n",
    "        for i, small in enumerate(ldf):\n",
    "            mio.show_perc(i, len(ldf), 2_000)\n",
    "            xmin, xmax = small.columns.min(), small.columns.max()\n",
    "            ymin, ymax = small.index.min(), small.index.max()\n",
    "            big.loc[ymax:ymin, xmin:xmax] = np.maximum(big.loc[ymax:ymin, xmin:xmax], small)\n",
    "\n",
    "        # Save raster file\n",
    "        print(f'writing {tag}_raster.tif')\n",
    "        res = (big.fillna(0) + 0.5).astype('int16')\n",
    "        mio.write_raster(res, f'../sb_tif/{tag}_raster.tif')\n",
    "        time.sleep(10)"
   ]
  },
  {
   "cell_type": "code",
   "execution_count": null,
   "metadata": {},
   "outputs": [],
   "source": []
  },
  {
   "cell_type": "code",
   "execution_count": null,
   "metadata": {},
   "outputs": [],
   "source": []
  },
  {
   "cell_type": "code",
   "execution_count": null,
   "metadata": {},
   "outputs": [],
   "source": []
  },
  {
   "cell_type": "code",
   "execution_count": null,
   "metadata": {},
   "outputs": [],
   "source": []
  },
  {
   "cell_type": "code",
   "execution_count": null,
   "metadata": {},
   "outputs": [],
   "source": []
  },
  {
   "cell_type": "code",
   "execution_count": null,
   "metadata": {},
   "outputs": [],
   "source": []
  },
  {
   "cell_type": "code",
   "execution_count": null,
   "metadata": {},
   "outputs": [],
   "source": []
  },
  {
   "cell_type": "code",
   "execution_count": null,
   "metadata": {},
   "outputs": [],
   "source": []
  },
  {
   "cell_type": "code",
   "execution_count": null,
   "metadata": {},
   "outputs": [],
   "source": []
  },
  {
   "cell_type": "code",
   "execution_count": null,
   "metadata": {},
   "outputs": [],
   "source": []
  }
 ],
 "metadata": {
  "kernelspec": {
   "display_name": "Python 3",
   "language": "python",
   "name": "python3"
  },
  "language_info": {
   "codemirror_mode": {
    "name": "ipython",
    "version": 3
   },
   "file_extension": ".py",
   "mimetype": "text/x-python",
   "name": "python",
   "nbconvert_exporter": "python",
   "pygments_lexer": "ipython3",
   "version": "3.7.1"
  }
 },
 "nbformat": 4,
 "nbformat_minor": 2
}
