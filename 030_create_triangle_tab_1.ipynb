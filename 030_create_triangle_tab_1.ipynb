{
 "cells": [
  {
   "cell_type": "code",
   "execution_count": 31,
   "metadata": {},
   "outputs": [],
   "source": [
    "pattern = '*1'"
   ]
  },
  {
   "cell_type": "code",
   "execution_count": 32,
   "metadata": {},
   "outputs": [],
   "source": [
    "import xmltodict as xd\n",
    "import pandas as pd\n",
    "import os, glob\n",
    "import mio\n",
    "import numpy as np\n",
    "import geopandas as gpd\n",
    "from shapely.geometry import Point, Polygon\n",
    "import pathlib\n",
    "import time"
   ]
  },
  {
   "cell_type": "code",
   "execution_count": 33,
   "metadata": {},
   "outputs": [],
   "source": [
    "def parse_model(dae_file:str) -> dict:\n",
    "    \" get point and vertex list for one model\"\n",
    "    with open(dae_file) as fin:\n",
    "        s = fin.read()\n",
    "    d = xd.parse(s)\n",
    "    \n",
    "    geometries = d['COLLADA']['library_geometries']['geometry']\n",
    "    \n",
    "    res = {}\n",
    "    for geo in geometries:\n",
    "        geo_id = geo['@id']\n",
    "\n",
    "        # float list\n",
    "        f_list = geo['mesh']['source']['float_array']['#text'].split()\n",
    "        f_list = [float(f) for f in f_list]\n",
    "\n",
    "        # vertex list\n",
    "        v_list = geo['mesh']['triangles']['p'].split()\n",
    "        v_list = [int(n) for n in v_list]\n",
    "        # write result\n",
    "        \n",
    "        res[geo_id] = (f_list, v_list)\n",
    "    \n",
    "    return res"
   ]
  },
  {
   "cell_type": "code",
   "execution_count": 34,
   "metadata": {},
   "outputs": [],
   "source": [
    "def comb_f_v(f_list, v_list):\n",
    "    va = np.array(v_list)\n",
    "    va = va.reshape(len(v_list)//3, 3)\n",
    "    v = pd.DataFrame(va, columns=['v0', 'v1', 'v2'])\n",
    "    \n",
    "    fa = np.array(f_list)\n",
    "    fa = fa.reshape(len(f_list)//3, 3)\n",
    "    f = pd.DataFrame(fa, columns=['x', 'y', 'z'])\n",
    "    \n",
    "    assert max(v.v0.max(), v.v1.max(), v.v2.max()) +1 == len(f)\n",
    "    \n",
    "    # combine the lists\n",
    "    res = (\n",
    "        v.join(f, on='v0').rename(columns={'x':'x0', 'y':'y0', 'z':'z0'})\n",
    "         .join(f, on='v1').rename(columns={'x':'x1', 'y':'y1', 'z':'z1'})\n",
    "         .join(f, on='v2').rename(columns={'x':'x2', 'y':'y2', 'z':'z2'})\n",
    "         .drop(columns=['v0', 'v1', 'v2'])\n",
    "    )\n",
    "    \n",
    "    return res"
   ]
  },
  {
   "cell_type": "code",
   "execution_count": 35,
   "metadata": {},
   "outputs": [],
   "source": [
    "def dae2df(dae_path):\n",
    "    dae_path = pathlib.Path(dae_path)\n",
    "    dic = parse_model(dae_path)\n",
    "    ldf = []\n",
    "    for key in dic:\n",
    "        f_list, v_list = dic[key]\n",
    "        df = comb_f_v(f_list, v_list)\n",
    "        ldf.append(df)\n",
    "    \n",
    "    res = pd.concat(ldf)\n",
    "    res.insert(0, 'model', dae_path.name)\n",
    "    return res"
   ]
  },
  {
   "cell_type": "code",
   "execution_count": 36,
   "metadata": {},
   "outputs": [],
   "source": [
    "def get_model_list(kml_path:str)->pd.DataFrame:\n",
    "    \" read kml file, get path and anchor coordinates for every model\"\n",
    "    with open(kml_path) as fin:\n",
    "        s = fin.read()\n",
    "    kmld =  xd.parse(s)\n",
    "    rows = []\n",
    "    \n",
    "    pms = kmld['kml']['Document']['Placemark']\n",
    "    # in case there is only one model!!!\n",
    "    if type(pms) != type([]):\n",
    "        print('only one model')\n",
    "        pms = [pms]\n",
    "    for pm in pms:\n",
    "        model = pm['Model']\n",
    "        row = {}\n",
    "        row['model'] = os.path.basename(model['Link']['href'])\n",
    "        sLon = model['Location']['longitude']\n",
    "        sLat = model['Location']['latitude']\n",
    "        row['swiss_lon'] = float(sLon)\n",
    "        row['swiss_lat'] = float(sLat)\n",
    "        row['swiss_x'], row['swiss_y'] = mio.wgs_swiss(sLon, sLat)\n",
    "        rows.append(row)\n",
    "    df = pd.DataFrame(rows)\n",
    "    \n",
    "    mdir = str(pathlib.Path(kml_path).parent / 'models')\n",
    "    res = (\n",
    "        df.assign(model_path = lambda d : mdir + '\\\\' + d.model)\n",
    "        .set_index('model')\n",
    "    )\n",
    "    return res"
   ]
  },
  {
   "cell_type": "code",
   "execution_count": 37,
   "metadata": {},
   "outputs": [],
   "source": [
    "# create datafrme with all triangles\n",
    "#\n",
    "def make_tri_tab(kml):\n",
    "    p_kml = pathlib.Path(kml)\n",
    "    mod_list = get_model_list(p_kml)\n",
    "    ldf = []\n",
    "    i = 0\n",
    "    for ind, row in mod_list.iterrows():\n",
    "        i += 1\n",
    "        mio.show_perc(i, len(mod_list), 100)\n",
    "        try:\n",
    "            tris = dae2df(row.model_path)\n",
    "            tris.insert(0, 'kml', p_kml.name)\n",
    "            tris.insert(2, 'swiss_x', row.swiss_x)\n",
    "            tris.insert(3, 'swiss_y', row.swiss_y)\n",
    "            ldf.append(tris)\n",
    "        except:\n",
    "            print(f'Problem with {row.model_path}')\n",
    "    df = pd.concat(ldf)\n",
    "\n",
    "    # create a geo dataframe\n",
    "    vec = (\n",
    "        pd.DataFrame()\n",
    "        .assign(kml = df.kml)\n",
    "        .assign(model = df.model)\n",
    "        .assign(x0 = df.x0 + df.swiss_x, y0 = df.y0 + df.swiss_y, z0 = df.z0)\n",
    "        .assign(x1 = df.x1 + df.swiss_x, y1 = df.y1 + df.swiss_y, z1 = df.z1)\n",
    "        .assign(x2 = df.x2 + df.swiss_x, y2 = df.y2 + df.swiss_y, z2 = df.z2)\n",
    "    )\n",
    "    geom = [Polygon( [(t[0], t[1]), (t[2], t[3]), (t[4], t[5])]) for t in zip(vec.x0, vec.y0, vec.x1, vec.y1, vec.x2, vec.y2)]\n",
    "    gdf = gpd.GeoDataFrame(vec, geometry=geom)\n",
    "    # filter out vertical walls\n",
    "    res = gdf[gdf.geometry.area > 0]\n",
    "    return gdf"
   ]
  },
  {
   "cell_type": "code",
   "execution_count": 38,
   "metadata": {},
   "outputs": [],
   "source": [
    "def get_tag_todo():\n",
    "    source_dir = pathlib.Path(\"../sb_KML\")\n",
    "    tags_all = set([d.stem for d in source_dir.glob(pattern)])\n",
    "\n",
    "    dest_dir = pathlib.Path('../sb_tab')\n",
    "    tags_done =  set([t.stem for t in dest_dir.glob('*.tab')])\n",
    "\n",
    "    tags_todo = tags_all.difference(tags_done)\n",
    "    l = list(tags_todo)\n",
    "    l.sort()\n",
    "    \n",
    "    if len(l) > 0:\n",
    "        print(f\"{len(l)} files to do\")\n",
    "        return l[0]\n",
    "    else:\n",
    "        return"
   ]
  },
  {
   "cell_type": "code",
   "execution_count": 39,
   "metadata": {},
   "outputs": [],
   "source": [
    "get_tag_todo()"
   ]
  },
  {
   "cell_type": "code",
   "execution_count": null,
   "metadata": {},
   "outputs": [],
   "source": [
    "# MAIN\n",
    "while(True):\n",
    "    tag = get_tag_todo()\n",
    "    if tag is not None:\n",
    "        print(f'processing {tag}')\n",
    "        kml = f\"../sb_KML/{tag}/{tag}.kml\"\n",
    "        gdf = make_tri_tab(kml)\n",
    "        print(f'writing {tag}.tab')\n",
    "        mio.write_tab(gdf, f'../sb_tab/{tag}.tab')\n",
    "    time.sleep(10)"
   ]
  },
  {
   "cell_type": "code",
   "execution_count": null,
   "metadata": {},
   "outputs": [],
   "source": []
  },
  {
   "cell_type": "code",
   "execution_count": null,
   "metadata": {},
   "outputs": [],
   "source": []
  },
  {
   "cell_type": "code",
   "execution_count": null,
   "metadata": {},
   "outputs": [],
   "source": []
  },
  {
   "cell_type": "code",
   "execution_count": null,
   "metadata": {},
   "outputs": [],
   "source": []
  },
  {
   "cell_type": "code",
   "execution_count": null,
   "metadata": {},
   "outputs": [],
   "source": []
  }
 ],
 "metadata": {
  "kernelspec": {
   "display_name": "Python 3",
   "language": "python",
   "name": "python3"
  },
  "language_info": {
   "codemirror_mode": {
    "name": "ipython",
    "version": 3
   },
   "file_extension": ".py",
   "mimetype": "text/x-python",
   "name": "python",
   "nbconvert_exporter": "python",
   "pygments_lexer": "ipython3",
   "version": "3.7.1"
  }
 },
 "nbformat": 4,
 "nbformat_minor": 2
}
