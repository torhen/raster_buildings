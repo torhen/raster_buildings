{
 "cells": [
  {
   "cell_type": "code",
   "execution_count": 1,
   "metadata": {},
   "outputs": [],
   "source": [
    "pattern = '*1.tab'"
   ]
  },
  {
   "cell_type": "code",
   "execution_count": 2,
   "metadata": {},
   "outputs": [],
   "source": [
    "import pandas as pd\n",
    "import geopandas as gpd\n",
    "import mio\n",
    "import numpy as np\n",
    "from matplotlib import pyplot as plt\n",
    "import pathlib\n",
    "import time"
   ]
  },
  {
   "cell_type": "code",
   "execution_count": 3,
   "metadata": {},
   "outputs": [],
   "source": [
    "def tri_array(p0, p1, p2, area, px, py):\n",
    "    \n",
    "    r_shape = tri_shape(p0, p1, p2, area, px, py)\n",
    "    r_heights = tri_heights(p0, p1, p2, area, px, py)\n",
    "    \n",
    "    return r_shape * r_heights"
   ]
  },
  {
   "cell_type": "code",
   "execution_count": 4,
   "metadata": {},
   "outputs": [],
   "source": [
    "def tri_heights(p0, p1, p2, area, px, py):\n",
    "    # calculate the triangle plane\n",
    "    Ax, Ay, Az = p0\n",
    "    Bx, By, Bz = p1\n",
    "    Cx, Cy, Cz = p2\n",
    "    \n",
    "    AB = (Bx - Ax, By - Ay, Bz - Az)\n",
    "    AC = (Cx - Ax, Cy - Ay, Cz - Az)\n",
    "    \n",
    "    # AB x AC = (a,b,c)\n",
    "    # Plane equasion: ax + by + cz + d = 0\n",
    "    a, b, c = np.cross(AB, AC)\n",
    "    d = -(a * Ax + b * Ay + c * Az)\n",
    " \n",
    "    pz  = (-a * px - b * py - d) / c\n",
    "\n",
    "    return pz"
   ]
  },
  {
   "cell_type": "raw",
   "metadata": {},
   "source": [
    "# test tri_heights\n",
    "p0 = (0,0,3)\n",
    "p1 = (1,0,3)\n",
    "p2 = (0,1,3)\n",
    "\n",
    "x = np.arange(-5, 5, 1)\n",
    "y = np.arange(-5, 5, 1)\n",
    "px, py = np.meshgrid(x, y)\n",
    "\n",
    "tri_heights(p0, p1, p2, 0, px, py)"
   ]
  },
  {
   "cell_type": "code",
   "execution_count": 5,
   "metadata": {},
   "outputs": [],
   "source": [
    "def tri_shape(p0, p1, p2, area, px, py):\n",
    "    # calc the outline of the triangles\n",
    "    p0x, p0y, _ = p0\n",
    "    p1x, p1y, _ = p1\n",
    "    p2x, p2y, _ = p2\n",
    "    \n",
    "    # do the calc, using stolen formula\n",
    "    s = 1/(2*area)*(p0y*p2x - p0x*p2y + (p2y - p0y)*px + (p0x - p2x)*py)\n",
    "    t = 1/(2*area)*(p0x*p1y - p0y*p1x + (p0y - p1y)*px + (p1x - p0x)*py)\n",
    "    u = 1 - s -t\n",
    "    r = (s>0) & (t>0) & (u>0)\n",
    "    \n",
    "    return r.astype(int)"
   ]
  },
  {
   "cell_type": "code",
   "execution_count": 6,
   "metadata": {},
   "outputs": [],
   "source": [
    "def signed_area(p0, p1, p2):\n",
    "        # calc signed area of triangle\n",
    "        p0x, p0y, _ = p0\n",
    "        p1x, p1y, _ = p1\n",
    "        p2x, p2y, _ = p2\n",
    "        \n",
    "        a = 0.5 *(-p1y*p2x + p0y*(-p1x + p2x) + p0x*(p1y - p2y) + p1x*p2y)\n",
    "\n",
    "        return a"
   ]
  },
  {
   "cell_type": "code",
   "execution_count": 7,
   "metadata": {},
   "outputs": [],
   "source": [
    "def create_meshgrid(p0, p1, p2):\n",
    "    xmin = int(min(p0[0], p1[0], p2[0])) -1\n",
    "    xmax = int(max(p0[0], p1[0], p2[0])) +1\n",
    "    ymin = int(min(p0[1], p1[1], p2[1])) -1\n",
    "    ymax = int(max(p0[1], p1[1], p2[1])) +1\n",
    "    df = pd.DataFrame(\n",
    "        columns = range(xmin, xmax, 1),\n",
    "        index = range(ymax, ymin, -1),\n",
    "        data = 0\n",
    "    )\n",
    "    xa = np.arange(xmin, xmax,  1)\n",
    "    ya = np.arange(ymax, ymin, -1)\n",
    "    px, py = np.meshgrid(xa, ya)\n",
    "    return xa, ya, px, py"
   ]
  },
  {
   "cell_type": "code",
   "execution_count": 8,
   "metadata": {},
   "outputs": [],
   "source": [
    "def get_df_list(tab):\n",
    "    print(f'reading {tab}', end=' ')\n",
    "    vec = gpd.read_file(tab)\n",
    "    ldf = []\n",
    "    count_ok = 0\n",
    "    count_er = 0\n",
    "    \n",
    "    i = 0\n",
    "    print(len(vec) / 1e3, 'x 1000 triangles')\n",
    "    print('create mini rasters')\n",
    "    for ind, row in vec.iterrows():\n",
    "        i += 1\n",
    "        mio.show_perc(i, len(vec), 10000)\n",
    "        p0 = (row.x0, row.y0, row.z0)\n",
    "        p1 = (row.x1, row.y1, row.z1)\n",
    "        p2 = (row.x2, row.y2, row.z2)\n",
    "\n",
    "        xa, ya, px, py = create_meshgrid(p0, p1, p2)\n",
    "\n",
    "        area = signed_area(p0, p1, p2)\n",
    "\n",
    "        # get rid of mini areas\n",
    "        if area >= 0.5:\n",
    "            count_ok += 1\n",
    "            ar = tri_array(p0, p1, p2, area, px, py)\n",
    "            df = pd.DataFrame(ar, columns=xa, index=ya)\n",
    "            if len(df) > 0:\n",
    "                ldf.append(df)\n",
    "        else:\n",
    "            # propably vertical\n",
    "            count_er += 1\n",
    "    return ldf"
   ]
  },
  {
   "cell_type": "code",
   "execution_count": 9,
   "metadata": {},
   "outputs": [],
   "source": [
    "def get_big_empty(ldf):\n",
    "    lx, ly = [], []\n",
    "    for df in ldf:\n",
    "        lx.append(df.columns.min())\n",
    "        lx.append(df.columns.max())\n",
    "        ly.append(df.index.min())\n",
    "        ly.append(df.index.max())\n",
    "    xmin, xmax = min(lx)-5, max(lx)+5\n",
    "    ymin, ymax = min(ly)-5, max(ly)+5\n",
    "    \n",
    "    empty = pd.DataFrame(\n",
    "        columns = range(xmin, xmax, 1),\n",
    "        index = range(ymax, ymin, -1),\n",
    "        data = 0\n",
    "    )\n",
    "    return empty"
   ]
  },
  {
   "cell_type": "code",
   "execution_count": 10,
   "metadata": {},
   "outputs": [],
   "source": [
    "def get_tag_todo():\n",
    "    source_dir = pathlib.Path('../sb_tab')\n",
    "    tags_all = set([d.stem for d in source_dir.glob(pattern)])\n",
    "\n",
    "    dest_dir = pathlib.Path('../sb_tif')\n",
    "    tags_done =  set([t.stem[0:7] for t in dest_dir.glob('*.tif')])\n",
    "    #print(tags_done)\n",
    "\n",
    "    tags_todo = tags_all.difference(tags_done)\n",
    "    #print(tags_todo)\n",
    "    l = list(tags_todo)\n",
    "    l.sort()\n",
    "    if len(l) >0:\n",
    "        print(f\"{len(l)} files to do\")\n",
    "        return l[0]\n",
    "    else:\n",
    "        return"
   ]
  },
  {
   "cell_type": "code",
   "execution_count": 11,
   "metadata": {},
   "outputs": [
    {
     "name": "stdout",
     "output_type": "stream",
     "text": [
      "618 files to do\n"
     ]
    },
    {
     "data": {
      "text/plain": [
       "'1129-21'"
      ]
     },
     "execution_count": 11,
     "metadata": {},
     "output_type": "execute_result"
    }
   ],
   "source": [
    "get_tag_todo()"
   ]
  },
  {
   "cell_type": "code",
   "execution_count": null,
   "metadata": {},
   "outputs": [
    {
     "name": "stdout",
     "output_type": "stream",
     "text": [
      "618 files to do\n",
      "reading ../sb_tab/1129-21.tab 96.857 x 1000 triangles\n",
      "create mini rasters\n",
      "10.32% 20.65% 30.97% 41.3% 51.62% 61.95% 72.27% 82.6% 92.92% \n",
      "combining all the mini rasters\n",
      "0.0% 11.26% 22.51% 33.77% 45.03% 56.28% 67.54% 78.8% 90.05% writing 1129-21_raster.tif\n",
      "617 files to do\n",
      "reading ../sb_tab/1129-31.tab 55.207 x 1000 triangles\n",
      "create mini rasters\n",
      "18.11% 36.23% 54.34% 72.45% 90.57% \n",
      "combining all the mini rasters\n",
      "0.0% 19.62% 39.25% 58.87% 78.49% 98.12% writing 1129-31_raster.tif\n",
      "616 files to do\n",
      "reading ../sb_tab/1129-41.tab 46.987 x 1000 triangles\n",
      "create mini rasters\n",
      "21.28% 42.56% 63.85% 85.13% \n",
      "combining all the mini rasters\n",
      "0.0% 17.2% 34.4% 51.6% 68.8% 86.0% writing 1129-41_raster.tif\n",
      "615 files to do\n",
      "reading ../sb_tab/1130-11.tab 100.311 x 1000 triangles\n",
      "create mini rasters\n",
      "9.97% 19.94% 29.91% 39.88% 49.84% 59.81% 69.78% 79.75% 89.72% 99.69% \n",
      "combining all the mini rasters\n",
      "0.0% 11.5% 23.0% 34.5% 46.0% 57.5% 69.0% 80.5% 92.0% writing 1130-11_raster.tif\n",
      "614 files to do\n",
      "reading ../sb_tab/1130-21.tab 45.78 x 1000 triangles\n",
      "create mini rasters\n",
      "21.84% 43.69% 65.53% 87.37% \n",
      "combining all the mini rasters\n",
      "0.0% 26.55% 53.1% 79.65% writing 1130-21_raster.tif\n",
      "613 files to do\n",
      "reading ../sb_tab/1130-31.tab 77.425 x 1000 triangles\n",
      "create mini rasters\n",
      "12.92% 25.83% 38.75% 51.66% 64.58% 77.49% 90.41% \n",
      "combining all the mini rasters\n",
      "0.0% 14.83% 29.66% 44.5% 59.33% 74.16% 88.99% writing 1130-31_raster.tif\n",
      "612 files to do\n",
      "reading ../sb_tab/1130-41.tab 127.486 x 1000 triangles\n",
      "create mini rasters\n",
      "7.84% 15.69% 23.53% 31.38% 39.22% 47.06% 54.91% 62.75% 70.6% 78.44% 86.28% 94.13% \n",
      "combining all the mini rasters\n",
      "0.0% 8.28% 16.56% 24.84% 33.12% 41.4% 49.68% 57.96% 66.24% 74.52% 82.81% 91.09% 99.37% writing 1130-41_raster.tif\n",
      "611 files to do\n",
      "reading ../sb_tab/1131-11.tab 108.666 x 1000 triangles\n",
      "create mini rasters\n",
      "9.2% 18.41% 27.61% 36.81% 46.01% 55.22% 64.42% 73.62% 82.82% 92.03% \n",
      "combining all the mini rasters\n",
      "0.0% 10.87% 21.75% 32.62% 43.5% 54.37% 65.25% 76.12% 86.99% 97.87% writing 1131-11_raster.tif\n",
      "610 files to do\n",
      "reading ../sb_tab/1131-21.tab 209.067 x 1000 triangles\n",
      "create mini rasters\n",
      "4.78% 9.57% 14.35% 19.13% 23.92% 28.7% 33.48% 38.27% 43.05% 47.83% 52.61% 57.4% 62.18% 66.96% 71.75% 76.53% 81.31% 86.1% 90.88% 95.66% \n",
      "combining all the mini rasters\n",
      "0.0% 4.58% 9.17% 13.75% 18.34% 22.92% 27.5% 32.09% 36.67% 41.26% 45.84% 50.42% 55.01% 59.59% 64.17% 68.76% 73.34% 77.93% 82.51% 87.09% 91.68% 96.26% writing 1131-21_raster.tif\n",
      "609 files to do\n",
      "reading ../sb_tab/1131-31.tab 105.146 x 1000 triangles\n",
      "create mini rasters\n",
      "9.51% 19.02% 28.53% 38.04% 47.55% 57.06% 66.57% 76.08% 85.6% 95.11% \n",
      "combining all the mini rasters\n",
      "0.0% 8.86% 17.73% 26.59% 35.46% 44.32% 53.19% 62.05% 70.92% 79.78% 88.64% 97.51% writing 1131-31_raster.tif\n",
      "608 files to do\n",
      "reading ../sb_tab/1131-41.tab 69.914 x 1000 triangles\n",
      "create mini rasters\n",
      "14.3% 28.61% 42.91% 57.21% 71.52% 85.82% \n",
      "combining all the mini rasters\n",
      "0.0% 13.52% 27.04% 40.56% 54.08% 67.59% 81.11% 94.63% writing 1131-41_raster.tif\n",
      "607 files to do\n",
      "reading ../sb_tab/1132-11.tab 122.55 x 1000 triangles\n",
      "create mini rasters\n",
      "8.16% 16.32% 24.48% 32.64% 40.8% 48.96% 57.12% 65.28% 73.44% 81.6% 89.76% 97.92% \n",
      "combining all the mini rasters\n",
      "0.0% 8.66% 17.32% 25.98% 34.64% 43.3% 51.96% 60.62% 69.29% 77.95% 86.61% 95.27% writing 1132-11_raster.tif\n",
      "606 files to do\n",
      "reading ../sb_tab/1132-21.tab 231.753 x 1000 triangles\n",
      "create mini rasters\n",
      "4.31% 8.63% 12.94% 17.26% 21.57% 25.89% 30.2% 34.52% 38.83% 43.15% 47.46% 51.78% 56.09% 60.41% 64.72% 69.04% 73.35% 77.67% 81.98% 86.3% 90.61% 94.93% 99.24% \n",
      "combining all the mini rasters\n",
      "0.0% 4.33% 8.66% 12.98% 17.31% 21.64% 25.97% 30.3% 34.62% 38.95% 43.28% 47.61% 51.94% 56.26% 60.59% 64.92% 69.25% 73.58% 77.9% 82.23% 86.56% 90.89% 95.22% 99.54% writing 1132-21_raster.tif\n",
      "605 files to do\n",
      "reading ../sb_tab/1132-31.tab 27.467 x 1000 triangles\n",
      "create mini rasters\n",
      "36.41% 72.81% \n",
      "combining all the mini rasters\n",
      "0.0% 36.02% 72.03% writing 1132-31_raster.tif\n",
      "604 files to do\n",
      "reading ../sb_tab/1132-41.tab 87.686 x 1000 triangles\n",
      "create mini rasters\n",
      "11.4% 22.81% 34.21% 45.62% 57.02% 68.43% 79.83% 91.23% \n",
      "combining all the mini rasters\n",
      "0.0% 12.16% 24.33% 36.49% 48.66% 60.82% 72.99% 85.15% 97.32% writing 1132-41_raster.tif\n",
      "603 files to do\n",
      "reading ../sb_tab/1133-11.tab 151.097 x 1000 triangles\n",
      "create mini rasters\n",
      "6.62% 13.24% 19.85% 26.47% 33.09% 39.71% 46.33% 52.95% 59.56% 66.18% 72.8% 79.42% 86.04% 92.66% 99.27% \n",
      "combining all the mini rasters\n",
      "0.0% 6.76% 13.52% 20.28% 27.05% 33.81% 40.57% 47.33% 54.09% 60.85% 67.62% 74.38% 81.14% 87.9% 94.66% writing 1133-11_raster.tif\n",
      "602 files to do\n",
      "reading ../sb_tab/1133-21.tab 87.634 x 1000 triangles\n",
      "create mini rasters\n",
      "11.41% 22.82% 34.23% 45.64% 57.06% 68.47% 79.88% 91.29% \n",
      "combining all the mini rasters\n",
      "0.0% "
     ]
    }
   ],
   "source": [
    "# MAIN\n",
    "while True:\n",
    "    tag = get_tag_todo()\n",
    "    if tag is not None:\n",
    "        # Create list of mini dataframes\n",
    "        ldf = get_df_list(f'../sb_tab/{tag}.tab')\n",
    "\n",
    "        # Create empty raster\n",
    "        big = get_big_empty(ldf)\n",
    "\n",
    "        print('\\ncombining all the mini rasters')\n",
    "        for i, small in enumerate(ldf):\n",
    "            mio.show_perc(i, len(ldf), 2_000)\n",
    "            xmin, xmax = small.columns.min(), small.columns.max()\n",
    "            ymin, ymax = small.index.min(), small.index.max()\n",
    "            big.loc[ymax:ymin, xmin:xmax] = np.maximum(big.loc[ymax:ymin, xmin:xmax], small)\n",
    "\n",
    "        # Save raster file\n",
    "        print(f'writing {tag}_raster.tif')\n",
    "        res = (big.fillna(0) + 0.5).astype('int16')\n",
    "        mio.write_raster(res, f'../sb_tif/{tag}_raster.tif')\n",
    "        time.sleep(10)"
   ]
  },
  {
   "cell_type": "code",
   "execution_count": null,
   "metadata": {},
   "outputs": [],
   "source": []
  },
  {
   "cell_type": "code",
   "execution_count": null,
   "metadata": {},
   "outputs": [],
   "source": []
  },
  {
   "cell_type": "code",
   "execution_count": null,
   "metadata": {},
   "outputs": [],
   "source": []
  },
  {
   "cell_type": "code",
   "execution_count": null,
   "metadata": {},
   "outputs": [],
   "source": []
  },
  {
   "cell_type": "code",
   "execution_count": null,
   "metadata": {},
   "outputs": [],
   "source": []
  }
 ],
 "metadata": {
  "kernelspec": {
   "display_name": "Python 3",
   "language": "python",
   "name": "python3"
  },
  "language_info": {
   "codemirror_mode": {
    "name": "ipython",
    "version": 3
   },
   "file_extension": ".py",
   "mimetype": "text/x-python",
   "name": "python",
   "nbconvert_exporter": "python",
   "pygments_lexer": "ipython3",
   "version": "3.7.1"
  }
 },
 "nbformat": 4,
 "nbformat_minor": 2
}
