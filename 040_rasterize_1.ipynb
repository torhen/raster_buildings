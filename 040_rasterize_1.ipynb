{
 "cells": [
  {
   "cell_type": "code",
   "execution_count": 1,
   "metadata": {},
   "outputs": [],
   "source": [
    "pattern = '*1.tab'"
   ]
  },
  {
   "cell_type": "code",
   "execution_count": 2,
   "metadata": {},
   "outputs": [],
   "source": [
    "import pandas as pd\n",
    "import geopandas as gpd\n",
    "import mio\n",
    "import numpy as np\n",
    "from matplotlib import pyplot as plt\n",
    "import pathlib\n",
    "import time"
   ]
  },
  {
   "cell_type": "code",
   "execution_count": 3,
   "metadata": {},
   "outputs": [],
   "source": [
    "def tri_array(p0, p1, p2, area, px, py):\n",
    "    \n",
    "    r_shape = tri_shape(p0, p1, p2, area, px, py)\n",
    "    r_heights = tri_heights(p0, p1, p2, area, px, py)\n",
    "    \n",
    "    return r_shape * r_heights"
   ]
  },
  {
   "cell_type": "code",
   "execution_count": 4,
   "metadata": {},
   "outputs": [],
   "source": [
    "def tri_heights(p0, p1, p2, area, px, py):\n",
    "    # calculate the triangle plane\n",
    "    Ax, Ay, Az = p0\n",
    "    Bx, By, Bz = p1\n",
    "    Cx, Cy, Cz = p2\n",
    "    \n",
    "    AB = (Bx - Ax, By - Ay, Bz - Az)\n",
    "    AC = (Cx - Ax, Cy - Ay, Cz - Az)\n",
    "    \n",
    "    # AB x AC = (a,b,c)\n",
    "    # Plane equasion: ax + by + cz + d = 0\n",
    "    a, b, c = np.cross(AB, AC)\n",
    "    d = -(a * Ax + b * Ay + c * Az)\n",
    " \n",
    "    pz  = (-a * px - b * py - d) / c\n",
    "\n",
    "    return pz"
   ]
  },
  {
   "cell_type": "raw",
   "metadata": {},
   "source": [
    "# test tri_heights\n",
    "p0 = (0,0,3)\n",
    "p1 = (1,0,3)\n",
    "p2 = (0,1,3)\n",
    "\n",
    "x = np.arange(-5, 5, 1)\n",
    "y = np.arange(-5, 5, 1)\n",
    "px, py = np.meshgrid(x, y)\n",
    "\n",
    "tri_heights(p0, p1, p2, 0, px, py)"
   ]
  },
  {
   "cell_type": "code",
   "execution_count": 5,
   "metadata": {},
   "outputs": [],
   "source": [
    "def tri_shape(p0, p1, p2, area, px, py):\n",
    "    # calc the outline of the triangles\n",
    "    p0x, p0y, _ = p0\n",
    "    p1x, p1y, _ = p1\n",
    "    p2x, p2y, _ = p2\n",
    "    \n",
    "    # do the calc, using stolen formula\n",
    "    s = 1/(2*area)*(p0y*p2x - p0x*p2y + (p2y - p0y)*px + (p0x - p2x)*py)\n",
    "    t = 1/(2*area)*(p0x*p1y - p0y*p1x + (p0y - p1y)*px + (p1x - p0x)*py)\n",
    "    u = 1 - s -t\n",
    "    r = (s>0) & (t>0) & (u>0)\n",
    "    \n",
    "    return r.astype(int)"
   ]
  },
  {
   "cell_type": "code",
   "execution_count": 6,
   "metadata": {},
   "outputs": [],
   "source": [
    "def signed_area(p0, p1, p2):\n",
    "        # calc signed area of triangle\n",
    "        p0x, p0y, _ = p0\n",
    "        p1x, p1y, _ = p1\n",
    "        p2x, p2y, _ = p2\n",
    "        \n",
    "        a = 0.5 *(-p1y*p2x + p0y*(-p1x + p2x) + p0x*(p1y - p2y) + p1x*p2y)\n",
    "\n",
    "        return a"
   ]
  },
  {
   "cell_type": "code",
   "execution_count": 7,
   "metadata": {},
   "outputs": [],
   "source": [
    "def create_meshgrid(p0, p1, p2):\n",
    "    xmin = int(min(p0[0], p1[0], p2[0])) -1\n",
    "    xmax = int(max(p0[0], p1[0], p2[0])) +1\n",
    "    ymin = int(min(p0[1], p1[1], p2[1])) -1\n",
    "    ymax = int(max(p0[1], p1[1], p2[1])) +1\n",
    "    df = pd.DataFrame(\n",
    "        columns = range(xmin, xmax, 1),\n",
    "        index = range(ymax, ymin, -1),\n",
    "        data = 0\n",
    "    )\n",
    "    xa = np.arange(xmin, xmax,  1)\n",
    "    ya = np.arange(ymax, ymin, -1)\n",
    "    px, py = np.meshgrid(xa, ya)\n",
    "    return xa, ya, px, py"
   ]
  },
  {
   "cell_type": "code",
   "execution_count": 8,
   "metadata": {},
   "outputs": [],
   "source": [
    "def get_df_list(tab):\n",
    "    print(f'reading {tab}', end=' ')\n",
    "    vec = gpd.read_file(tab)\n",
    "    ldf = []\n",
    "    count_ok = 0\n",
    "    count_er = 0\n",
    "    \n",
    "    i = 0\n",
    "    print(len(vec) / 1e3, 'x 1000 triangles')\n",
    "    print('create mini rasters')\n",
    "    for ind, row in vec.iterrows():\n",
    "        i += 1\n",
    "        mio.show_perc(i, len(vec), 10000)\n",
    "        p0 = (row.x0, row.y0, row.z0)\n",
    "        p1 = (row.x1, row.y1, row.z1)\n",
    "        p2 = (row.x2, row.y2, row.z2)\n",
    "\n",
    "        xa, ya, px, py = create_meshgrid(p0, p1, p2)\n",
    "\n",
    "        area = signed_area(p0, p1, p2)\n",
    "\n",
    "        # get rid of mini areas\n",
    "        if area >= 0.5:\n",
    "            count_ok += 1\n",
    "            ar = tri_array(p0, p1, p2, area, px, py)\n",
    "            df = pd.DataFrame(ar, columns=xa, index=ya)\n",
    "            if len(df) > 0:\n",
    "                ldf.append(df)\n",
    "        else:\n",
    "            # propably vertical\n",
    "            count_er += 1\n",
    "    return ldf"
   ]
  },
  {
   "cell_type": "code",
   "execution_count": 9,
   "metadata": {},
   "outputs": [],
   "source": [
    "def get_big_empty(ldf):\n",
    "    lx, ly = [], []\n",
    "    for df in ldf:\n",
    "        lx.append(df.columns.min())\n",
    "        lx.append(df.columns.max())\n",
    "        ly.append(df.index.min())\n",
    "        ly.append(df.index.max())\n",
    "    xmin, xmax = min(lx)-5, max(lx)+5\n",
    "    ymin, ymax = min(ly)-5, max(ly)+5\n",
    "    \n",
    "    empty = pd.DataFrame(\n",
    "        columns = range(xmin, xmax, 1),\n",
    "        index = range(ymax, ymin, -1),\n",
    "        data = 0\n",
    "    )\n",
    "    return empty"
   ]
  },
  {
   "cell_type": "code",
   "execution_count": 10,
   "metadata": {},
   "outputs": [],
   "source": [
    "def get_tag_todo():\n",
    "    source_dir = pathlib.Path('../sb_tab')\n",
    "    tags_all = set([d.stem for d in source_dir.glob(pattern)])\n",
    "\n",
    "    dest_dir = pathlib.Path('../sb_tif')\n",
    "    tags_done =  set([t.stem[0:7] for t in dest_dir.glob('*.tif')])\n",
    "    #print(tags_done)\n",
    "\n",
    "    tags_todo = tags_all.difference(tags_done)\n",
    "    #print(tags_todo)\n",
    "    l = list(tags_todo)\n",
    "    l.sort()\n",
    "    if len(l) >0:\n",
    "        print(f\"{len(l)} files to do\")\n",
    "        return l[0]\n",
    "    else:\n",
    "        return"
   ]
  },
  {
   "cell_type": "code",
   "execution_count": 11,
   "metadata": {},
   "outputs": [
    {
     "name": "stdout",
     "output_type": "stream",
     "text": [
      "7 files to do\n"
     ]
    },
    {
     "data": {
      "text/plain": [
       "'1032-31'"
      ]
     },
     "execution_count": 11,
     "metadata": {},
     "output_type": "execute_result"
    }
   ],
   "source": [
    "get_tag_todo()"
   ]
  },
  {
   "cell_type": "code",
   "execution_count": null,
   "metadata": {},
   "outputs": [
    {
     "name": "stdout",
     "output_type": "stream",
     "text": [
      "7 files to do\n",
      "reading ../sb_tab/1032-31.tab 229.238 x 1000 triangles\n",
      "create mini rasters\n",
      "4.36% 8.72% 13.09% 17.45% 21.81% 26.17% 30.54% 34.9% 39.26% 43.62% 47.99% 52.35% 56.71% 61.07% 65.43% 69.8% 74.16% 78.52% 82.88% 87.25% 91.61% 95.97% \n",
      "combining all the mini rasters\n",
      "0.0% 11.43% 22.87% 34.3% 45.74% 57.17% 68.6% 80.04% 91.47% writing 1032-31_raster.tif\n",
      "10 files to do\n",
      "reading ../sb_tab/1032-41.tab 30.742 x 1000 triangles\n",
      "create mini rasters\n",
      "32.53% 65.06% 97.59% \n",
      "combining all the mini rasters\n",
      "0.0% 89.24% writing 1032-41_raster.tif\n",
      "10 files to do\n",
      "reading ../sb_tab/1033-41.tab 39.276 x 1000 triangles\n",
      "create mini rasters\n",
      "25.46% 50.92% 76.38% \n",
      "combining all the mini rasters\n",
      "0.0% 71.04% writing 1033-41_raster.tif\n",
      "9 files to do\n",
      "reading ../sb_tab/1047-41.tab 155.69 x 1000 triangles\n",
      "create mini rasters\n",
      "6.42% 12.85% 19.27% 25.69% 32.12% 38.54% 44.96% 51.38% 57.81% 64.23% 70.65% 77.08% 83.5% 89.92% 96.35% \n",
      "combining all the mini rasters\n",
      "0.0% 14.61% 29.21% 43.82% 58.42% 73.03% 87.63% writing 1047-41_raster.tif\n",
      "13 files to do\n",
      "reading ../sb_tab/1048-41.tab 29.732 x 1000 triangles\n",
      "create mini rasters\n",
      "33.63% 67.27% \n",
      "combining all the mini rasters\n",
      "0.0% 79.8% writing 1048-41_raster.tif\n",
      "12 files to do\n",
      "reading ../sb_tab/1049-41.tab 9.096 x 1000 triangles\n",
      "create mini rasters\n",
      "\n",
      "combining all the mini rasters\n",
      "0.0% writing 1049-41_raster.tif\n",
      "11 files to do\n",
      "reading ../sb_tab/1050-31.tab 116.556 x 1000 triangles\n",
      "create mini rasters\n",
      "8.58% 17.16% 25.74% 34.32% 42.9% 51.48% 60.06% 68.64% 77.22% 85.8% 94.38% \n",
      "combining all the mini rasters\n",
      "0.0% 19.03% 38.05% 57.08% 76.11% 95.14% writing 1050-31_raster.tif\n",
      "13 files to do\n",
      "reading ../sb_tab/1050-41.tab 123.09 x 1000 triangles\n",
      "create mini rasters\n",
      "8.12% 16.25% 24.37% 32.5% 40.62% 48.74% 56.87% 64.99% 73.12% 81.24% 89.37% 97.49% \n",
      "combining all the mini rasters\n",
      "0.0% 17.83% 35.65% 53.48% 71.31% 89.14% writing 1050-41_raster.tif\n",
      "13 files to do\n",
      "reading ../sb_tab/1051-21.tab 2.086 x 1000 triangles\n",
      "create mini rasters\n",
      "\n",
      "combining all the mini rasters\n",
      "0.0% writing 1051-21_raster.tif\n",
      "12 files to do\n",
      "reading ../sb_tab/1051-31.tab 12.611 x 1000 triangles\n",
      "create mini rasters\n",
      "79.3% \n",
      "combining all the mini rasters\n",
      "0.0% writing 1051-31_raster.tif\n",
      "11 files to do\n",
      "reading ../sb_tab/1051-41.tab 141.457 x 1000 triangles\n",
      "create mini rasters\n",
      "7.07% 14.14% 21.21% 28.28% 35.35% 42.42% 49.49% 56.55% 63.62% 70.69% 77.76% 84.83% 91.9% 98.97% \n",
      "combining all the mini rasters\n",
      "0.0% 15.28% 30.57% 45.85% 61.14% 76.42% 91.71% writing 1051-41_raster.tif\n",
      "12 files to do\n",
      "reading ../sb_tab/1052-11.tab 112.267 x 1000 triangles\n",
      "create mini rasters\n",
      "8.91% 17.81% 26.72% 35.63% 44.54% 53.44% 62.35% 71.26% 80.17% 89.07% 97.98% \n",
      "combining all the mini rasters\n",
      "0.0% 25.74% 51.47% 77.21% writing 1052-11_raster.tif\n",
      "13 files to do\n",
      "reading ../sb_tab/1052-21.tab 89.3 x 1000 triangles\n",
      "create mini rasters\n",
      "11.2% 22.4% 33.59% 44.79% 55.99% 67.19% 78.39% 89.59% \n",
      "combining all the mini rasters\n",
      "0.0% 31.23% 62.46% 93.69% writing 1052-21_raster.tif\n",
      "14 files to do\n",
      "reading ../sb_tab/1052-31.tab 78.576 x 1000 triangles\n",
      "create mini rasters\n",
      "12.73% 25.45% 38.18% 50.91% 63.63% 76.36% 89.09% \n",
      "combining all the mini rasters\n",
      "0.0% "
     ]
    }
   ],
   "source": [
    "# MAIN\n",
    "while True:\n",
    "    tag = get_tag_todo()\n",
    "    if tag is not None:\n",
    "        # Create list of mini dataframes\n",
    "        ldf = get_df_list(f'../sb_tab/{tag}.tab')\n",
    "\n",
    "        # Create empty raster\n",
    "        big = get_big_empty(ldf)\n",
    "\n",
    "        print('\\ncombining all the mini rasters')\n",
    "        for i, small in enumerate(ldf):\n",
    "            mio.show_perc(i, len(ldf), 5_000)\n",
    "            xmin, xmax = small.columns.min(), small.columns.max()\n",
    "            ymin, ymax = small.index.min(), small.index.max()\n",
    "            big.loc[ymax:ymin, xmin:xmax] = np.maximum(big.loc[ymax:ymin, xmin:xmax], small)\n",
    "\n",
    "        # Save raster file\n",
    "        print(f'writing {tag}_raster.tif')\n",
    "        mio.write_raster(big.fillna(0).astype('int16'), f'../sb_tif/{tag}_raster.tif')\n",
    "        time.sleep(10)"
   ]
  },
  {
   "cell_type": "code",
   "execution_count": null,
   "metadata": {},
   "outputs": [],
   "source": []
  },
  {
   "cell_type": "code",
   "execution_count": null,
   "metadata": {},
   "outputs": [],
   "source": []
  }
 ],
 "metadata": {
  "kernelspec": {
   "display_name": "Python 3",
   "language": "python",
   "name": "python3"
  },
  "language_info": {
   "codemirror_mode": {
    "name": "ipython",
    "version": 3
   },
   "file_extension": ".py",
   "mimetype": "text/x-python",
   "name": "python",
   "nbconvert_exporter": "python",
   "pygments_lexer": "ipython3",
   "version": "3.7.1"
  }
 },
 "nbformat": 4,
 "nbformat_minor": 2
}
