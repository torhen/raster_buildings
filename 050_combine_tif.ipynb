{
 "cells": [
  {
   "cell_type": "code",
   "execution_count": 1,
   "metadata": {},
   "outputs": [],
   "source": [
    "import pandas as pd\n",
    "import geopandas as gpd\n",
    "import mio\n",
    "import pathlib\n",
    "from matplotlib import pyplot as plt\n",
    "import numpy as np"
   ]
  },
  {
   "cell_type": "code",
   "execution_count": 2,
   "metadata": {},
   "outputs": [
    {
     "data": {
      "text/html": [
       "<div>\n",
       "<style scoped>\n",
       "    .dataframe tbody tr th:only-of-type {\n",
       "        vertical-align: middle;\n",
       "    }\n",
       "\n",
       "    .dataframe tbody tr th {\n",
       "        vertical-align: top;\n",
       "    }\n",
       "\n",
       "    .dataframe thead th {\n",
       "        text-align: right;\n",
       "    }\n",
       "</style>\n",
       "<table border=\"1\" class=\"dataframe\">\n",
       "  <thead>\n",
       "    <tr style=\"text-align: right;\">\n",
       "      <th></th>\n",
       "      <th>map_name</th>\n",
       "      <th>xmin</th>\n",
       "      <th>xmax</th>\n",
       "      <th>ymin</th>\n",
       "      <th>ymax</th>\n",
       "    </tr>\n",
       "  </thead>\n",
       "  <tbody>\n",
       "    <tr>\n",
       "      <th>0</th>\n",
       "      <td>Komb1011</td>\n",
       "      <td>672500</td>\n",
       "      <td>690000</td>\n",
       "      <td>290000</td>\n",
       "      <td>302000</td>\n",
       "    </tr>\n",
       "    <tr>\n",
       "      <th>1</th>\n",
       "      <td>Komb1012</td>\n",
       "      <td>690000</td>\n",
       "      <td>707500</td>\n",
       "      <td>290000</td>\n",
       "      <td>302000</td>\n",
       "    </tr>\n",
       "    <tr>\n",
       "      <th>2</th>\n",
       "      <td>Komb1031</td>\n",
       "      <td>672500</td>\n",
       "      <td>690000</td>\n",
       "      <td>278000</td>\n",
       "      <td>290000</td>\n",
       "    </tr>\n",
       "  </tbody>\n",
       "</table>\n",
       "</div>"
      ],
      "text/plain": [
       "   map_name    xmin    xmax    ymin    ymax\n",
       "0  Komb1011  672500  690000  290000  302000\n",
       "1  Komb1012  690000  707500  290000  302000\n",
       "2  Komb1031  672500  690000  278000  290000"
      ]
     },
     "execution_count": 2,
     "metadata": {},
     "output_type": "execute_result"
    }
   ],
   "source": [
    "k25 = pd.read_excel('komb25.xlsx')\n",
    "k25.head(3)"
   ]
  },
  {
   "cell_type": "code",
   "execution_count": 3,
   "metadata": {},
   "outputs": [],
   "source": [
    "def make_sl_bui(tag):\n",
    "    s = k25[k25.map_name == f'Komb{tag}'].iloc[0]\n",
    "    xmin, ymin, xmax, ymax = s.xmin, s.ymin, s.xmax, s.ymax\n",
    "    empty = pd.DataFrame(\n",
    "            columns = range(xmin, xmax, 1),\n",
    "            index = range(ymax, ymin, -1),\n",
    "            data = 0\n",
    "    )\n",
    "    tifs = list(pathlib.Path('../sb_tif').glob(f'{tag}*.tif'))\n",
    "    res = empty.copy()\n",
    "    for tif in tifs:\n",
    "        print(pathlib.Path(tif).name, end=' ')\n",
    "        r = (\n",
    "            mio.read_raster(tif)[0]\n",
    "            .reindex( columns = range(xmin, xmax, 1),\n",
    "                     index = range(ymax, ymin, -1),\n",
    "                     fill_value = 0\n",
    "                    )\n",
    "        )\n",
    "        res = np.maximum(res, r)\n",
    "    # uint16 becoause above sea level !!\n",
    "    mio.write_raster(res.astype('uint16'), f'../25k_sl_bui/{tag}_sl_bui.bil')"
   ]
  },
  {
   "cell_type": "code",
   "execution_count": 4,
   "metadata": {},
   "outputs": [
    {
     "name": "stdout",
     "output_type": "stream",
     "text": [
      "1091-11_raster.tif 1091-12_raster.tif 1091-13_raster.tif 1091-14_raster.tif 1091-21_raster.tif 1091-22_raster.tif 1091-23_raster.tif 1091-24_raster.tif 1091-31_raster.tif 1091-32_raster.tif 1091-33_raster.tif 1091-34_raster.tif 1091-41_raster.tif 1091-42_raster.tif 1091-43_raster.tif 1091-44_raster.tif Wall time: 1min 19s\n"
     ]
    }
   ],
   "source": [
    "%%time\n",
    "make_sl_bui('1091')"
   ]
  },
  {
   "cell_type": "code",
   "execution_count": null,
   "metadata": {},
   "outputs": [],
   "source": []
  }
 ],
 "metadata": {
  "kernelspec": {
   "display_name": "Python 3",
   "language": "python",
   "name": "python3"
  },
  "language_info": {
   "codemirror_mode": {
    "name": "ipython",
    "version": 3
   },
   "file_extension": ".py",
   "mimetype": "text/x-python",
   "name": "python",
   "nbconvert_exporter": "python",
   "pygments_lexer": "ipython3",
   "version": "3.7.1"
  }
 },
 "nbformat": 4,
 "nbformat_minor": 2
}
