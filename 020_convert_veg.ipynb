{
 "cells": [
  {
   "cell_type": "code",
   "execution_count": 1,
   "metadata": {},
   "outputs": [],
   "source": [
    "%matplotlib inline\n",
    "import pandas as pd\n",
    "import mio\n",
    "import pathlib\n",
    "from matplotlib import pyplot as plt\n",
    "import numpy as np"
   ]
  },
  {
   "cell_type": "markdown",
   "metadata": {},
   "source": [
    "#### Create Shell script for linux"
   ]
  },
  {
   "cell_type": "code",
   "execution_count": 2,
   "metadata": {},
   "outputs": [
    {
     "data": {
      "text/html": [
       "<div>\n",
       "<style scoped>\n",
       "    .dataframe tbody tr th:only-of-type {\n",
       "        vertical-align: middle;\n",
       "    }\n",
       "\n",
       "    .dataframe tbody tr th {\n",
       "        vertical-align: top;\n",
       "    }\n",
       "\n",
       "    .dataframe thead th {\n",
       "        text-align: right;\n",
       "    }\n",
       "</style>\n",
       "<table border=\"1\" class=\"dataframe\">\n",
       "  <thead>\n",
       "    <tr style=\"text-align: right;\">\n",
       "      <th></th>\n",
       "      <th>map_name</th>\n",
       "      <th>xmin</th>\n",
       "      <th>xmax</th>\n",
       "      <th>ymin</th>\n",
       "      <th>ymax</th>\n",
       "    </tr>\n",
       "  </thead>\n",
       "  <tbody>\n",
       "    <tr>\n",
       "      <th>0</th>\n",
       "      <td>Komb1011</td>\n",
       "      <td>672500</td>\n",
       "      <td>690000</td>\n",
       "      <td>290000</td>\n",
       "      <td>302000</td>\n",
       "    </tr>\n",
       "    <tr>\n",
       "      <th>1</th>\n",
       "      <td>Komb1012</td>\n",
       "      <td>690000</td>\n",
       "      <td>707500</td>\n",
       "      <td>290000</td>\n",
       "      <td>302000</td>\n",
       "    </tr>\n",
       "    <tr>\n",
       "      <th>2</th>\n",
       "      <td>Komb1031</td>\n",
       "      <td>672500</td>\n",
       "      <td>690000</td>\n",
       "      <td>278000</td>\n",
       "      <td>290000</td>\n",
       "    </tr>\n",
       "  </tbody>\n",
       "</table>\n",
       "</div>"
      ],
      "text/plain": [
       "   map_name    xmin    xmax    ymin    ymax\n",
       "0  Komb1011  672500  690000  290000  302000\n",
       "1  Komb1012  690000  707500  290000  302000\n",
       "2  Komb1031  672500  690000  278000  290000"
      ]
     },
     "execution_count": 2,
     "metadata": {},
     "output_type": "execute_result"
    }
   ],
   "source": [
    "coords = (\n",
    "    pd.read_excel('komb25.xlsx')\n",
    ")\n",
    "coords.head(3)"
   ]
  },
  {
   "cell_type": "code",
   "execution_count": 3,
   "metadata": {},
   "outputs": [],
   "source": [
    "fout = open('convert_vegi_on_linux.sh', 'wt') \n",
    "for ind, row in coords.iterrows():\n",
    "    x0 = row.xmin + 2000_000\n",
    "    y0 = row.ymin + 1 + 1000_000\n",
    "    x1 = row.xmax + 2000_000\n",
    "    y1 = row.ymax + 1 + 1000_000\n",
    "    map_name = row.map_name\n",
    "    dest = 'lv95_' + map_name[4:] + '.tif'\n",
    "    cmd = f'gdal_translate -of GTiff -projwin {x0} {y1} {x1} {y0} Vegetationshoehenmodell_LFI_ID164_19_LV95.tif {dest}\\n'\n",
    "    fout.write(cmd)\n",
    "fout.close()"
   ]
  },
  {
   "cell_type": "markdown",
   "metadata": {},
   "source": [
    "#### Convert lv95 to lv05 vegi tiles"
   ]
  },
  {
   "cell_type": "code",
   "execution_count": 4,
   "metadata": {},
   "outputs": [
    {
     "data": {
      "text/plain": [
       "259"
      ]
     },
     "execution_count": 4,
     "metadata": {},
     "output_type": "execute_result"
    }
   ],
   "source": [
    "files = list(pathlib.Path('D:').glob('lv95*.tif'))\n",
    "len(files)"
   ]
  },
  {
   "cell_type": "code",
   "execution_count": null,
   "metadata": {},
   "outputs": [
    {
     "name": "stdout",
     "output_type": "stream",
     "text": [
      "0.0% 0.77% 1.54% 2.32% 3.09% 3.86% 4.63% 5.41% 6.18% 6.95% 7.72% 8.49% 9.27% 10.04% 10.81% 11.58% 12.36% 13.13% 13.9% 14.67% 15.44% 16.22% 16.99% 17.76% 18.53% 19.31% 20.08% 20.85% 21.62% 22.39% 23.17% 23.94% 24.71% 25.48% 26.25% 27.03% 27.8% 28.57% 29.34% 30.12% 30.89% 31.66% 32.43% 33.2% 33.98% 34.75% 35.52% 36.29% 37.07% 37.84% 38.61% 39.38% 40.15% 40.93% 41.7% 42.47% 43.24% 44.02% 44.79% 45.56% 46.33% 47.1% 47.88% 48.65% 49.42% 50.19% 50.97% 51.74% 52.51% 53.28% 54.05% 54.83% 55.6% 56.37% 57.14% 57.92% 58.69% 59.46% 60.23% 61.0% 61.78% 62.55% 63.32% 64.09% 64.86% 65.64% 66.41% 67.18% 67.95% 68.73% 69.5% 70.27% 71.04% 71.81% 72.59% 73.36% "
     ]
    }
   ],
   "source": [
    "for i, file in enumerate(files):\n",
    "    mio.show_perc(i, len(files), 2)\n",
    "    tag = str(file)[7:11]\n",
    "    r = mio.read_raster(file)[0]\n",
    "    r[r>200] = 0\n",
    "    r2 = (\n",
    "        r.pipe( lambda d : d + 0.5)\n",
    "        .rename(columns = lambda c : int(c) - 2000_000)\n",
    "        .rename(index = lambda c : int(c) - 1000_000)\n",
    "        .astype('uint8')\n",
    "    )\n",
    "    mio.write_raster(r2, f'../25k_veg/veg_{tag}.bil')"
   ]
  },
  {
   "cell_type": "code",
   "execution_count": null,
   "metadata": {},
   "outputs": [],
   "source": []
  }
 ],
 "metadata": {
  "kernelspec": {
   "display_name": "Python 3",
   "language": "python",
   "name": "python3"
  },
  "language_info": {
   "codemirror_mode": {
    "name": "ipython",
    "version": 3
   },
   "file_extension": ".py",
   "mimetype": "text/x-python",
   "name": "python",
   "nbconvert_exporter": "python",
   "pygments_lexer": "ipython3",
   "version": "3.7.1"
  }
 },
 "nbformat": 4,
 "nbformat_minor": 2
}
