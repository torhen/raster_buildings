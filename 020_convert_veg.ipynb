{
 "cells": [
  {
   "cell_type": "code",
   "execution_count": 1,
   "metadata": {},
   "outputs": [],
   "source": [
    "import pandas as pd"
   ]
  },
  {
   "cell_type": "markdown",
   "metadata": {},
   "source": [
    "#### Create Shell script for linux"
   ]
  },
  {
   "cell_type": "code",
   "execution_count": 2,
   "metadata": {},
   "outputs": [
    {
     "data": {
      "text/html": [
       "<div>\n",
       "<style scoped>\n",
       "    .dataframe tbody tr th:only-of-type {\n",
       "        vertical-align: middle;\n",
       "    }\n",
       "\n",
       "    .dataframe tbody tr th {\n",
       "        vertical-align: top;\n",
       "    }\n",
       "\n",
       "    .dataframe thead th {\n",
       "        text-align: right;\n",
       "    }\n",
       "</style>\n",
       "<table border=\"1\" class=\"dataframe\">\n",
       "  <thead>\n",
       "    <tr style=\"text-align: right;\">\n",
       "      <th></th>\n",
       "      <th>map_name</th>\n",
       "      <th>xmin</th>\n",
       "      <th>xmax</th>\n",
       "      <th>ymin</th>\n",
       "      <th>ymax</th>\n",
       "    </tr>\n",
       "  </thead>\n",
       "  <tbody>\n",
       "    <tr>\n",
       "      <th>0</th>\n",
       "      <td>Komb1011</td>\n",
       "      <td>672500</td>\n",
       "      <td>690000</td>\n",
       "      <td>290000</td>\n",
       "      <td>302000</td>\n",
       "    </tr>\n",
       "    <tr>\n",
       "      <th>1</th>\n",
       "      <td>Komb1012</td>\n",
       "      <td>690000</td>\n",
       "      <td>707500</td>\n",
       "      <td>290000</td>\n",
       "      <td>302000</td>\n",
       "    </tr>\n",
       "    <tr>\n",
       "      <th>2</th>\n",
       "      <td>Komb1031</td>\n",
       "      <td>672500</td>\n",
       "      <td>690000</td>\n",
       "      <td>278000</td>\n",
       "      <td>290000</td>\n",
       "    </tr>\n",
       "  </tbody>\n",
       "</table>\n",
       "</div>"
      ],
      "text/plain": [
       "   map_name    xmin    xmax    ymin    ymax\n",
       "0  Komb1011  672500  690000  290000  302000\n",
       "1  Komb1012  690000  707500  290000  302000\n",
       "2  Komb1031  672500  690000  278000  290000"
      ]
     },
     "execution_count": 2,
     "metadata": {},
     "output_type": "execute_result"
    }
   ],
   "source": [
    "coords = (\n",
    "    pd.read_excel('komb25.xlsx')\n",
    ")\n",
    "coords.head(3)"
   ]
  },
  {
   "cell_type": "code",
   "execution_count": 16,
   "metadata": {},
   "outputs": [],
   "source": [
    "fout = open('convert_vegi_on_linux.sh', 'w') \n",
    "for ind, row in coords.iterrows():\n",
    "    x0 = row.xmin + 2000_000\n",
    "    y0 = row.ymin + 1 + 1000_000\n",
    "    x1 = row.xmax + 2000_000\n",
    "    y1 = row.ymax + 1 + 1000_000\n",
    "    map_name = row.map_name\n",
    "    dest = 'lv95_' + map_name[4:] + '.bil'\n",
    "    cmd = f'gdal_translate -of EHdr -projwin {x0} {y1} {x1} {y0} Vegetationshoehenmodell_LFI_ID164_19_LV95.tif {dest}\\n'\n",
    "    fout.write(cmd)\n",
    "fout.close()"
   ]
  },
  {
   "cell_type": "code",
   "execution_count": 13,
   "metadata": {},
   "outputs": [
    {
     "ename": "SyntaxError",
     "evalue": "invalid syntax (<ipython-input-13-9a5d7928cada>, line 1)",
     "output_type": "error",
     "traceback": [
      "\u001b[1;36m  File \u001b[1;32m\"<ipython-input-13-9a5d7928cada>\"\u001b[1;36m, line \u001b[1;32m1\u001b[0m\n\u001b[1;33m    gdal_translate -of EHdr -projwin 2672500  1254001 2690000 1242001  /mnt/d/source/Vegetationshoehenmodell_LFI_ID164_19_LV95/Vegetationshoehenmodell_LFI_ID164_19_LV95.tif ../25k/veg_1019.bil\u001b[0m\n\u001b[1;37m                          ^\u001b[0m\n\u001b[1;31mSyntaxError\u001b[0m\u001b[1;31m:\u001b[0m invalid syntax\n"
     ]
    }
   ],
   "source": [
    "gdal_translate -of EHdr -projwin 2672500  1254001 2690000 1242001  /mnt/d/source/Vegetationshoehenmodell_LFI_ID164_19_LV95/Vegetationshoehenmodell_LFI_ID164_19_LV95.tif ../25k/veg_1019.bil"
   ]
  },
  {
   "cell_type": "code",
   "execution_count": null,
   "metadata": {},
   "outputs": [],
   "source": []
  }
 ],
 "metadata": {
  "kernelspec": {
   "display_name": "Python 3",
   "language": "python",
   "name": "python3"
  },
  "language_info": {
   "codemirror_mode": {
    "name": "ipython",
    "version": 3
   },
   "file_extension": ".py",
   "mimetype": "text/x-python",
   "name": "python",
   "nbconvert_exporter": "python",
   "pygments_lexer": "ipython3",
   "version": "3.7.1"
  }
 },
 "nbformat": 4,
 "nbformat_minor": 2
}
