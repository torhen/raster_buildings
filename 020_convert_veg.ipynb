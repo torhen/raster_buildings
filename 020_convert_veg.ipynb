{
 "cells": [
  {
   "cell_type": "code",
   "execution_count": 1,
   "metadata": {},
   "outputs": [],
   "source": [
    "%matplotlib inline\n",
    "import pandas as pd\n",
    "import mio\n",
    "import pathlib\n",
    "from matplotlib import pyplot as plt\n",
    "import numpy as np"
   ]
  },
  {
   "cell_type": "markdown",
   "metadata": {},
   "source": [
    "#### Create Shell script for linux"
   ]
  },
  {
   "cell_type": "code",
   "execution_count": 2,
   "metadata": {},
   "outputs": [
    {
     "data": {
      "text/html": [
       "<div>\n",
       "<style scoped>\n",
       "    .dataframe tbody tr th:only-of-type {\n",
       "        vertical-align: middle;\n",
       "    }\n",
       "\n",
       "    .dataframe tbody tr th {\n",
       "        vertical-align: top;\n",
       "    }\n",
       "\n",
       "    .dataframe thead th {\n",
       "        text-align: right;\n",
       "    }\n",
       "</style>\n",
       "<table border=\"1\" class=\"dataframe\">\n",
       "  <thead>\n",
       "    <tr style=\"text-align: right;\">\n",
       "      <th></th>\n",
       "      <th>map_name</th>\n",
       "      <th>xmin</th>\n",
       "      <th>xmax</th>\n",
       "      <th>ymin</th>\n",
       "      <th>ymax</th>\n",
       "    </tr>\n",
       "  </thead>\n",
       "  <tbody>\n",
       "    <tr>\n",
       "      <th>0</th>\n",
       "      <td>Komb1011</td>\n",
       "      <td>672500</td>\n",
       "      <td>690000</td>\n",
       "      <td>290000</td>\n",
       "      <td>302000</td>\n",
       "    </tr>\n",
       "    <tr>\n",
       "      <th>1</th>\n",
       "      <td>Komb1012</td>\n",
       "      <td>690000</td>\n",
       "      <td>707500</td>\n",
       "      <td>290000</td>\n",
       "      <td>302000</td>\n",
       "    </tr>\n",
       "    <tr>\n",
       "      <th>2</th>\n",
       "      <td>Komb1031</td>\n",
       "      <td>672500</td>\n",
       "      <td>690000</td>\n",
       "      <td>278000</td>\n",
       "      <td>290000</td>\n",
       "    </tr>\n",
       "  </tbody>\n",
       "</table>\n",
       "</div>"
      ],
      "text/plain": [
       "   map_name    xmin    xmax    ymin    ymax\n",
       "0  Komb1011  672500  690000  290000  302000\n",
       "1  Komb1012  690000  707500  290000  302000\n",
       "2  Komb1031  672500  690000  278000  290000"
      ]
     },
     "execution_count": 2,
     "metadata": {},
     "output_type": "execute_result"
    }
   ],
   "source": [
    "coords = (\n",
    "    pd.read_excel('komb25.xlsx')\n",
    ")\n",
    "coords.head(3)"
   ]
  },
  {
   "cell_type": "code",
   "execution_count": 3,
   "metadata": {},
   "outputs": [],
   "source": [
    "fout = open('convert_vegi_on_linux.sh', 'wt') \n",
    "for ind, row in coords.iterrows():\n",
    "    x0 = row.xmin + 2000_000\n",
    "    y0 = row.ymin + 1 + 1000_000\n",
    "    x1 = row.xmax + 2000_000\n",
    "    y1 = row.ymax + 1 + 1000_000\n",
    "    map_name = row.map_name\n",
    "    dest = 'lv95_' + map_name[4:] + '.tif'\n",
    "    cmd = f'gdal_translate -of GTiff -projwin {x0} {y1} {x1} {y0} Vegetationshoehenmodell_LFI_ID164_19_LV95.tif {dest}\\n'\n",
    "    fout.write(cmd)\n",
    "fout.close()"
   ]
  },
  {
   "cell_type": "markdown",
   "metadata": {},
   "source": [
    "#### Convert lv95 to lv05 vegi tiles"
   ]
  },
  {
   "cell_type": "code",
   "execution_count": 22,
   "metadata": {},
   "outputs": [
    {
     "data": {
      "text/plain": [
       "259"
      ]
     },
     "execution_count": 22,
     "metadata": {},
     "output_type": "execute_result"
    }
   ],
   "source": [
    "all_files = list(pathlib.Path('D:').glob('lv95*.tif'))\n",
    "all_tags = set([s.stem[5:] for s in all_files])\n",
    "len(all_tags)"
   ]
  },
  {
   "cell_type": "code",
   "execution_count": 23,
   "metadata": {},
   "outputs": [
    {
     "data": {
      "text/plain": [
       "192"
      ]
     },
     "execution_count": 23,
     "metadata": {},
     "output_type": "execute_result"
    }
   ],
   "source": [
    "done_files = list(pathlib.Path(r'C:\\Buildings20\\25k_veg').glob('veg*.bil'))\n",
    "done_tags = set([s.stem[4:] for s in done_files])\n",
    "len(done_tags)"
   ]
  },
  {
   "cell_type": "code",
   "execution_count": 27,
   "metadata": {},
   "outputs": [
    {
     "name": "stdout",
     "output_type": "stream",
     "text": [
      "0.0% 2.94% 5.88% 8.82% 11.76% 14.71% 17.65% 20.59% 23.53% 26.47% 29.41% 32.35% 35.29% 38.24% 41.18% 44.12% 47.06% 50.0% 52.94% 55.88% 58.82% 61.76% 64.71% 67.65% 70.59% 73.53% 76.47% 79.41% 82.35% 85.29% 88.24% 91.18% 94.12% 97.06% "
     ]
    }
   ],
   "source": [
    "for i, tag in enumerate(tags_todo):\n",
    "    mio.show_perc(i, len(tags_todo), 2)\n",
    "    source = f\"D:/lv95_{tag}.tif\"\n",
    "    r = mio.read_raster(source)[0]\n",
    "    r[r>200] = 0 # highest tree in the world = 130m\n",
    "    r2 = (\n",
    "        r.pipe( lambda d : d + 0.5)\n",
    "        .rename(columns = lambda c : int(c) - 2000_000)\n",
    "        .rename(index = lambda c : int(c) - 1000_000)\n",
    "        .astype('uint8')\n",
    "    )\n",
    "    dest = rf\"../25k_veg/veg_{tag}.bil\"\n",
    "    mio.write_raster(r2, dest)"
   ]
  },
  {
   "cell_type": "code",
   "execution_count": null,
   "metadata": {},
   "outputs": [],
   "source": []
  }
 ],
 "metadata": {
  "kernelspec": {
   "display_name": "Python 3",
   "language": "python",
   "name": "python3"
  },
  "language_info": {
   "codemirror_mode": {
    "name": "ipython",
    "version": 3
   },
   "file_extension": ".py",
   "mimetype": "text/x-python",
   "name": "python",
   "nbconvert_exporter": "python",
   "pygments_lexer": "ipython3",
   "version": "3.7.1"
  }
 },
 "nbformat": 4,
 "nbformat_minor": 2
}
