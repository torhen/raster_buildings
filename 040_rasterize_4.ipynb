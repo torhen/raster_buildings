{
 "cells": [
  {
   "cell_type": "code",
   "execution_count": 1,
   "metadata": {},
   "outputs": [],
   "source": [
    "pattern = '*4.tab'"
   ]
  },
  {
   "cell_type": "code",
   "execution_count": 2,
   "metadata": {},
   "outputs": [],
   "source": [
    "import pandas as pd\n",
    "import geopandas as gpd\n",
    "import mio\n",
    "import numpy as np\n",
    "from matplotlib import pyplot as plt\n",
    "import pathlib\n",
    "import time"
   ]
  },
  {
   "cell_type": "code",
   "execution_count": 3,
   "metadata": {},
   "outputs": [],
   "source": [
    "def tri_array(p0, p1, p2, area, px, py):\n",
    "    \n",
    "    r_shape = tri_shape(p0, p1, p2, area, px, py)\n",
    "    r_heights = tri_heights(p0, p1, p2, area, px, py)\n",
    "    \n",
    "    return r_shape * r_heights"
   ]
  },
  {
   "cell_type": "code",
   "execution_count": 4,
   "metadata": {},
   "outputs": [],
   "source": [
    "def tri_heights(p0, p1, p2, area, px, py):\n",
    "    # calculate the triangle plane\n",
    "    Ax, Ay, Az = p0\n",
    "    Bx, By, Bz = p1\n",
    "    Cx, Cy, Cz = p2\n",
    "    \n",
    "    AB = (Bx - Ax, By - Ay, Bz - Az)\n",
    "    AC = (Cx - Ax, Cy - Ay, Cz - Az)\n",
    "    \n",
    "    # AB x AC = (a,b,c)\n",
    "    # Plane equasion: ax + by + cz + d = 0\n",
    "    a, b, c = np.cross(AB, AC)\n",
    "    d = -(a * Ax + b * Ay + c * Az)\n",
    " \n",
    "    pz  = (-a * px - b * py - d) / c\n",
    "\n",
    "    return pz"
   ]
  },
  {
   "cell_type": "raw",
   "metadata": {},
   "source": [
    "# test tri_heights\n",
    "p0 = (0,0,3)\n",
    "p1 = (1,0,3)\n",
    "p2 = (0,1,3)\n",
    "\n",
    "x = np.arange(-5, 5, 1)\n",
    "y = np.arange(-5, 5, 1)\n",
    "px, py = np.meshgrid(x, y)\n",
    "\n",
    "tri_heights(p0, p1, p2, 0, px, py)"
   ]
  },
  {
   "cell_type": "code",
   "execution_count": 5,
   "metadata": {},
   "outputs": [],
   "source": [
    "def tri_shape(p0, p1, p2, area, px, py):\n",
    "    # calc the outline of the triangles\n",
    "    p0x, p0y, _ = p0\n",
    "    p1x, p1y, _ = p1\n",
    "    p2x, p2y, _ = p2\n",
    "    \n",
    "    # do the calc, using stolen formula\n",
    "    s = 1/(2*area)*(p0y*p2x - p0x*p2y + (p2y - p0y)*px + (p0x - p2x)*py)\n",
    "    t = 1/(2*area)*(p0x*p1y - p0y*p1x + (p0y - p1y)*px + (p1x - p0x)*py)\n",
    "    u = 1 - s -t\n",
    "    r = (s>0) & (t>0) & (u>0)\n",
    "    \n",
    "    return r.astype(int)"
   ]
  },
  {
   "cell_type": "code",
   "execution_count": 6,
   "metadata": {},
   "outputs": [],
   "source": [
    "def signed_area(p0, p1, p2):\n",
    "        # calc signed area of triangle\n",
    "        p0x, p0y, _ = p0\n",
    "        p1x, p1y, _ = p1\n",
    "        p2x, p2y, _ = p2\n",
    "        \n",
    "        a = 0.5 *(-p1y*p2x + p0y*(-p1x + p2x) + p0x*(p1y - p2y) + p1x*p2y)\n",
    "\n",
    "        return a"
   ]
  },
  {
   "cell_type": "code",
   "execution_count": 7,
   "metadata": {},
   "outputs": [],
   "source": [
    "def create_meshgrid(p0, p1, p2):\n",
    "    xmin = int(min(p0[0], p1[0], p2[0])) -1\n",
    "    xmax = int(max(p0[0], p1[0], p2[0])) +1\n",
    "    ymin = int(min(p0[1], p1[1], p2[1])) -1\n",
    "    ymax = int(max(p0[1], p1[1], p2[1])) +1\n",
    "    df = pd.DataFrame(\n",
    "        columns = range(xmin, xmax, 1),\n",
    "        index = range(ymax, ymin, -1),\n",
    "        data = 0\n",
    "    )\n",
    "    xa = np.arange(xmin, xmax,  1)\n",
    "    ya = np.arange(ymax, ymin, -1)\n",
    "    px, py = np.meshgrid(xa, ya)\n",
    "    return xa, ya, px, py"
   ]
  },
  {
   "cell_type": "code",
   "execution_count": 8,
   "metadata": {},
   "outputs": [],
   "source": [
    "def get_df_list(tab):\n",
    "    print(f'reading {tab}', end=' ')\n",
    "    vec = gpd.read_file(tab)\n",
    "    ldf = []\n",
    "    count_ok = 0\n",
    "    count_er = 0\n",
    "    \n",
    "    i = 0\n",
    "    print(len(vec) / 1e3, 'x 1000 triangles')\n",
    "    print('create mini rasters')\n",
    "    for ind, row in vec.iterrows():\n",
    "        i += 1\n",
    "        mio.show_perc(i, len(vec), 10000)\n",
    "        p0 = (row.x0, row.y0, row.z0)\n",
    "        p1 = (row.x1, row.y1, row.z1)\n",
    "        p2 = (row.x2, row.y2, row.z2)\n",
    "\n",
    "        xa, ya, px, py = create_meshgrid(p0, p1, p2)\n",
    "\n",
    "        area = signed_area(p0, p1, p2)\n",
    "\n",
    "        # get rid of mini areas\n",
    "        if area >= 0.5:\n",
    "            count_ok += 1\n",
    "            ar = tri_array(p0, p1, p2, area, px, py)\n",
    "            df = pd.DataFrame(ar, columns=xa, index=ya)\n",
    "            if len(df) > 0:\n",
    "                ldf.append(df)\n",
    "        else:\n",
    "            # propably vertical\n",
    "            count_er += 1\n",
    "    return ldf"
   ]
  },
  {
   "cell_type": "code",
   "execution_count": 9,
   "metadata": {},
   "outputs": [],
   "source": [
    "def get_big_empty(ldf):\n",
    "    lx, ly = [], []\n",
    "    for df in ldf:\n",
    "        lx.append(df.columns.min())\n",
    "        lx.append(df.columns.max())\n",
    "        ly.append(df.index.min())\n",
    "        ly.append(df.index.max())\n",
    "    xmin, xmax = min(lx)-5, max(lx)+5\n",
    "    ymin, ymax = min(ly)-5, max(ly)+5\n",
    "    \n",
    "    empty = pd.DataFrame(\n",
    "        columns = range(xmin, xmax, 1),\n",
    "        index = range(ymax, ymin, -1),\n",
    "        data = 0\n",
    "    )\n",
    "    return empty"
   ]
  },
  {
   "cell_type": "code",
   "execution_count": 10,
   "metadata": {},
   "outputs": [],
   "source": [
    "def get_tag_todo():\n",
    "    source_dir = pathlib.Path('../sb_tab')\n",
    "    tags_all = set([d.stem for d in source_dir.glob(pattern)])\n",
    "\n",
    "    dest_dir = pathlib.Path('../sb_tif')\n",
    "    tags_done =  set([t.stem[0:7] for t in dest_dir.glob('*.tif')])\n",
    "    #print(tags_done)\n",
    "\n",
    "    tags_todo = tags_all.difference(tags_done)\n",
    "    #print(tags_todo)\n",
    "    l = list(tags_todo)\n",
    "    l.sort()\n",
    "    if len(l) >0:\n",
    "        print(f\"{len(l)} files to do\")\n",
    "        return l[0]\n",
    "    else:\n",
    "        return"
   ]
  },
  {
   "cell_type": "code",
   "execution_count": 11,
   "metadata": {},
   "outputs": [
    {
     "name": "stdout",
     "output_type": "stream",
     "text": [
      "624 files to do\n"
     ]
    },
    {
     "data": {
      "text/plain": [
       "'1125-14'"
      ]
     },
     "execution_count": 11,
     "metadata": {},
     "output_type": "execute_result"
    }
   ],
   "source": [
    "get_tag_todo()"
   ]
  },
  {
   "cell_type": "code",
   "execution_count": null,
   "metadata": {},
   "outputs": [
    {
     "name": "stdout",
     "output_type": "stream",
     "text": [
      "624 files to do\n",
      "reading ../sb_tab/1125-14.tab 57.993 x 1000 triangles\n",
      "create mini rasters\n",
      "17.24% 34.49% 51.73% 68.97% 86.22% \n",
      "combining all the mini rasters\n",
      "0.0% 14.1% 28.2% 42.3% 56.39% 70.49% 84.59% 98.69% writing 1125-14_raster.tif\n",
      "623 files to do\n",
      "reading ../sb_tab/1125-24.tab 18.588 x 1000 triangles\n",
      "create mini rasters\n",
      "53.8% \n",
      "combining all the mini rasters\n",
      "0.0% 50.18% writing 1125-24_raster.tif\n",
      "622 files to do\n",
      "reading ../sb_tab/1125-34.tab 32.491 x 1000 triangles\n",
      "create mini rasters\n",
      "30.78% 61.56% 92.33% \n",
      "combining all the mini rasters\n",
      "0.0% 25.75% 51.5% 77.25% writing 1125-34_raster.tif\n",
      "621 files to do\n",
      "reading ../sb_tab/1125-44.tab 128.211 x 1000 triangles\n",
      "create mini rasters\n",
      "7.8% 15.6% 23.4% 31.2% 39.0% 46.8% 54.6% 62.4% 70.2% 78.0% 85.8% 93.6% \n",
      "combining all the mini rasters\n",
      "0.0% 6.53% 13.05% 19.58% 26.1% 32.63% 39.16% 45.68% 52.21% 58.73% 65.26% 71.79% 78.31% 84.84% 91.36% 97.89% writing 1125-44_raster.tif\n",
      "620 files to do\n",
      "reading ../sb_tab/1126-14.tab 96.276 x 1000 triangles\n",
      "create mini rasters\n",
      "10.39% 20.77% 31.16% 41.55% 51.93% 62.32% 72.71% 83.09% 93.48% \n",
      "combining all the mini rasters\n",
      "0.0% 9.37% 18.75% 28.12% 37.5% 46.87% 56.25% 65.62% 74.99% 84.37% 93.74% writing 1126-14_raster.tif\n",
      "619 files to do\n",
      "reading ../sb_tab/1126-24.tab 107.34 x 1000 triangles\n",
      "create mini rasters\n",
      "9.32% 18.63% 27.95% 37.26% 46.58% 55.9% 65.21% 74.53% 83.85% 93.16% \n",
      "combining all the mini rasters\n",
      "0.0% 8.48% 16.96% 25.44% 33.92% 42.4% 50.88% 59.36% 67.84% 76.32% 84.8% 93.28% writing 1126-24_raster.tif\n",
      "618 files to do\n",
      "reading ../sb_tab/1126-34.tab 132.754 x 1000 triangles\n",
      "create mini rasters\n",
      "7.53% 15.07% 22.6% 30.13% 37.66% 45.2% 52.73% 60.26% 67.79% 75.33% 82.86% 90.39% 97.93% \n",
      "combining all the mini rasters\n",
      "0.0% "
     ]
    }
   ],
   "source": [
    "# MAIN\n",
    "while True:\n",
    "    tag = get_tag_todo()\n",
    "    if tag is not None:\n",
    "        # Create list of mini dataframes\n",
    "        ldf = get_df_list(f'../sb_tab/{tag}.tab')\n",
    "\n",
    "        # Create empty raster\n",
    "        big = get_big_empty(ldf)\n",
    "\n",
    "        print('\\ncombining all the mini rasters')\n",
    "        for i, small in enumerate(ldf):\n",
    "            mio.show_perc(i, len(ldf), 2_000)\n",
    "            xmin, xmax = small.columns.min(), small.columns.max()\n",
    "            ymin, ymax = small.index.min(), small.index.max()\n",
    "            big.loc[ymax:ymin, xmin:xmax] = np.maximum(big.loc[ymax:ymin, xmin:xmax], small)\n",
    "\n",
    "        # Save raster file\n",
    "        print(f'writing {tag}_raster.tif')\n",
    "        res = (big.fillna(0) + 0.5).astype('int16')\n",
    "        mio.write_raster(res, f'../sb_tif/{tag}_raster.tif')\n",
    "        time.sleep(10)"
   ]
  },
  {
   "cell_type": "code",
   "execution_count": null,
   "metadata": {},
   "outputs": [],
   "source": []
  },
  {
   "cell_type": "code",
   "execution_count": null,
   "metadata": {},
   "outputs": [],
   "source": []
  },
  {
   "cell_type": "code",
   "execution_count": null,
   "metadata": {},
   "outputs": [],
   "source": []
  },
  {
   "cell_type": "code",
   "execution_count": null,
   "metadata": {},
   "outputs": [],
   "source": []
  },
  {
   "cell_type": "code",
   "execution_count": null,
   "metadata": {},
   "outputs": [],
   "source": []
  },
  {
   "cell_type": "code",
   "execution_count": null,
   "metadata": {},
   "outputs": [],
   "source": []
  }
 ],
 "metadata": {
  "kernelspec": {
   "display_name": "Python 3",
   "language": "python",
   "name": "python3"
  },
  "language_info": {
   "codemirror_mode": {
    "name": "ipython",
    "version": 3
   },
   "file_extension": ".py",
   "mimetype": "text/x-python",
   "name": "python",
   "nbconvert_exporter": "python",
   "pygments_lexer": "ipython3",
   "version": "3.7.1"
  }
 },
 "nbformat": 4,
 "nbformat_minor": 2
}
