{
 "cells": [
  {
   "cell_type": "code",
   "execution_count": 1,
   "metadata": {},
   "outputs": [],
   "source": [
    "pattern = '*4.tab'"
   ]
  },
  {
   "cell_type": "code",
   "execution_count": 2,
   "metadata": {},
   "outputs": [],
   "source": [
    "import pandas as pd\n",
    "import geopandas as gpd\n",
    "import mio\n",
    "import numpy as np\n",
    "from matplotlib import pyplot as plt\n",
    "import pathlib\n",
    "import time"
   ]
  },
  {
   "cell_type": "code",
   "execution_count": 3,
   "metadata": {},
   "outputs": [],
   "source": [
    "def tri_array(p0, p1, p2, area, px, py):\n",
    "    \n",
    "    r_shape = tri_shape(p0, p1, p2, area, px, py)\n",
    "    r_heights = tri_heights(p0, p1, p2, area, px, py)\n",
    "    \n",
    "    return r_shape * r_heights"
   ]
  },
  {
   "cell_type": "code",
   "execution_count": 4,
   "metadata": {},
   "outputs": [],
   "source": [
    "def tri_heights(p0, p1, p2, area, px, py):\n",
    "    # calculate the triangle plane\n",
    "    Ax, Ay, Az = p0\n",
    "    Bx, By, Bz = p1\n",
    "    Cx, Cy, Cz = p2\n",
    "    \n",
    "    AB = (Bx - Ax, By - Ay, Bz - Az)\n",
    "    AC = (Cx - Ax, Cy - Ay, Cz - Az)\n",
    "    \n",
    "    # AB x AC = (a,b,c)\n",
    "    # Plane equasion: ax + by + cz + d = 0\n",
    "    a, b, c = np.cross(AB, AC)\n",
    "    d = -(a * Ax + b * Ay + c * Az)\n",
    " \n",
    "    pz  = (-a * px - b * py - d) / c\n",
    "\n",
    "    return pz"
   ]
  },
  {
   "cell_type": "raw",
   "metadata": {},
   "source": [
    "# test tri_heights\n",
    "p0 = (0,0,3)\n",
    "p1 = (1,0,3)\n",
    "p2 = (0,1,3)\n",
    "\n",
    "x = np.arange(-5, 5, 1)\n",
    "y = np.arange(-5, 5, 1)\n",
    "px, py = np.meshgrid(x, y)\n",
    "\n",
    "tri_heights(p0, p1, p2, 0, px, py)"
   ]
  },
  {
   "cell_type": "code",
   "execution_count": 5,
   "metadata": {},
   "outputs": [],
   "source": [
    "def tri_shape(p0, p1, p2, area, px, py):\n",
    "    # calc the outline of the triangles\n",
    "    p0x, p0y, _ = p0\n",
    "    p1x, p1y, _ = p1\n",
    "    p2x, p2y, _ = p2\n",
    "    \n",
    "    # do the calc, using stolen formula\n",
    "    s = 1/(2*area)*(p0y*p2x - p0x*p2y + (p2y - p0y)*px + (p0x - p2x)*py)\n",
    "    t = 1/(2*area)*(p0x*p1y - p0y*p1x + (p0y - p1y)*px + (p1x - p0x)*py)\n",
    "    u = 1 - s -t\n",
    "    r = (s>0) & (t>0) & (u>0)\n",
    "    \n",
    "    return r.astype(int)"
   ]
  },
  {
   "cell_type": "code",
   "execution_count": 6,
   "metadata": {},
   "outputs": [],
   "source": [
    "def signed_area(p0, p1, p2):\n",
    "        # calc signed area of triangle\n",
    "        p0x, p0y, _ = p0\n",
    "        p1x, p1y, _ = p1\n",
    "        p2x, p2y, _ = p2\n",
    "        \n",
    "        a = 0.5 *(-p1y*p2x + p0y*(-p1x + p2x) + p0x*(p1y - p2y) + p1x*p2y)\n",
    "\n",
    "        return a"
   ]
  },
  {
   "cell_type": "code",
   "execution_count": 7,
   "metadata": {},
   "outputs": [],
   "source": [
    "def create_meshgrid(p0, p1, p2):\n",
    "    xmin = int(min(p0[0], p1[0], p2[0])) -1\n",
    "    xmax = int(max(p0[0], p1[0], p2[0])) +1\n",
    "    ymin = int(min(p0[1], p1[1], p2[1])) -1\n",
    "    ymax = int(max(p0[1], p1[1], p2[1])) +1\n",
    "    df = pd.DataFrame(\n",
    "        columns = range(xmin, xmax, 1),\n",
    "        index = range(ymax, ymin, -1),\n",
    "        data = 0\n",
    "    )\n",
    "    xa = np.arange(xmin, xmax,  1)\n",
    "    ya = np.arange(ymax, ymin, -1)\n",
    "    px, py = np.meshgrid(xa, ya)\n",
    "    return xa, ya, px, py"
   ]
  },
  {
   "cell_type": "code",
   "execution_count": 8,
   "metadata": {},
   "outputs": [],
   "source": [
    "def get_df_list(tab):\n",
    "    print(f'reading {tab}', end=' ')\n",
    "    vec = gpd.read_file(tab)\n",
    "    ldf = []\n",
    "    count_ok = 0\n",
    "    count_er = 0\n",
    "    \n",
    "    i = 0\n",
    "    print(len(vec) / 1e3, 'x 1000 triangles')\n",
    "    print('create mini rasters')\n",
    "    for ind, row in vec.iterrows():\n",
    "        i += 1\n",
    "        mio.show_perc(i, len(vec), 10000)\n",
    "        p0 = (row.x0, row.y0, row.z0)\n",
    "        p1 = (row.x1, row.y1, row.z1)\n",
    "        p2 = (row.x2, row.y2, row.z2)\n",
    "\n",
    "        xa, ya, px, py = create_meshgrid(p0, p1, p2)\n",
    "\n",
    "        area = signed_area(p0, p1, p2)\n",
    "\n",
    "        # get rid of mini areas\n",
    "        if area >= 0.5:\n",
    "            count_ok += 1\n",
    "            ar = tri_array(p0, p1, p2, area, px, py)\n",
    "            df = pd.DataFrame(ar, columns=xa, index=ya)\n",
    "            if len(df) > 0:\n",
    "                ldf.append(df)\n",
    "        else:\n",
    "            # propably vertical\n",
    "            count_er += 1\n",
    "    return ldf"
   ]
  },
  {
   "cell_type": "code",
   "execution_count": 9,
   "metadata": {},
   "outputs": [],
   "source": [
    "def get_big_empty(ldf):\n",
    "    lx, ly = [], []\n",
    "    for df in ldf:\n",
    "        lx.append(df.columns.min())\n",
    "        lx.append(df.columns.max())\n",
    "        ly.append(df.index.min())\n",
    "        ly.append(df.index.max())\n",
    "    xmin, xmax = min(lx)-5, max(lx)+5\n",
    "    ymin, ymax = min(ly)-5, max(ly)+5\n",
    "    \n",
    "    empty = pd.DataFrame(\n",
    "        columns = range(xmin, xmax, 1),\n",
    "        index = range(ymax, ymin, -1),\n",
    "        data = 0\n",
    "    )\n",
    "    return empty"
   ]
  },
  {
   "cell_type": "code",
   "execution_count": 10,
   "metadata": {},
   "outputs": [],
   "source": [
    "def get_tag_todo():\n",
    "    source_dir = pathlib.Path('../sb_tab')\n",
    "    tags_all = set([d.stem for d in source_dir.glob(pattern)])\n",
    "\n",
    "    dest_dir = pathlib.Path('../sb_tif')\n",
    "    tags_done =  set([t.stem[0:7] for t in dest_dir.glob('*.tif')])\n",
    "    #print(tags_done)\n",
    "\n",
    "    tags_todo = tags_all.difference(tags_done)\n",
    "    #print(tags_todo)\n",
    "    l = list(tags_todo)\n",
    "    l.sort()\n",
    "    if len(l) >0:\n",
    "        print(f\"{len(l)} files to do\")\n",
    "        return l[0]\n",
    "    else:\n",
    "        return"
   ]
  },
  {
   "cell_type": "code",
   "execution_count": 11,
   "metadata": {},
   "outputs": [
    {
     "name": "stdout",
     "output_type": "stream",
     "text": [
      "624 files to do\n"
     ]
    },
    {
     "data": {
      "text/plain": [
       "'1125-14'"
      ]
     },
     "execution_count": 11,
     "metadata": {},
     "output_type": "execute_result"
    }
   ],
   "source": [
    "get_tag_todo()"
   ]
  },
  {
   "cell_type": "code",
   "execution_count": null,
   "metadata": {},
   "outputs": [
    {
     "name": "stdout",
     "output_type": "stream",
     "text": [
      "624 files to do\n",
      "reading ../sb_tab/1125-14.tab 57.993 x 1000 triangles\n",
      "create mini rasters\n",
      "17.24% 34.49% 51.73% 68.97% 86.22% \n",
      "combining all the mini rasters\n",
      "0.0% 14.1% 28.2% 42.3% 56.39% 70.49% 84.59% 98.69% writing 1125-14_raster.tif\n",
      "623 files to do\n",
      "reading ../sb_tab/1125-24.tab 18.588 x 1000 triangles\n",
      "create mini rasters\n",
      "53.8% \n",
      "combining all the mini rasters\n",
      "0.0% 50.18% writing 1125-24_raster.tif\n",
      "622 files to do\n",
      "reading ../sb_tab/1125-34.tab 32.491 x 1000 triangles\n",
      "create mini rasters\n",
      "30.78% 61.56% 92.33% \n",
      "combining all the mini rasters\n",
      "0.0% 25.75% 51.5% 77.25% writing 1125-34_raster.tif\n",
      "621 files to do\n",
      "reading ../sb_tab/1125-44.tab 128.211 x 1000 triangles\n",
      "create mini rasters\n",
      "7.8% 15.6% 23.4% 31.2% 39.0% 46.8% 54.6% 62.4% 70.2% 78.0% 85.8% 93.6% \n",
      "combining all the mini rasters\n",
      "0.0% 6.53% 13.05% 19.58% 26.1% 32.63% 39.16% 45.68% 52.21% 58.73% 65.26% 71.79% 78.31% 84.84% 91.36% 97.89% writing 1125-44_raster.tif\n",
      "620 files to do\n",
      "reading ../sb_tab/1126-14.tab 96.276 x 1000 triangles\n",
      "create mini rasters\n",
      "10.39% 20.77% 31.16% 41.55% 51.93% 62.32% 72.71% 83.09% 93.48% \n",
      "combining all the mini rasters\n",
      "0.0% 9.37% 18.75% 28.12% 37.5% 46.87% 56.25% 65.62% 74.99% 84.37% 93.74% writing 1126-14_raster.tif\n",
      "619 files to do\n",
      "reading ../sb_tab/1126-24.tab 107.34 x 1000 triangles\n",
      "create mini rasters\n",
      "9.32% 18.63% 27.95% 37.26% 46.58% 55.9% 65.21% 74.53% 83.85% 93.16% \n",
      "combining all the mini rasters\n",
      "0.0% 8.48% 16.96% 25.44% 33.92% 42.4% 50.88% 59.36% 67.84% 76.32% 84.8% 93.28% writing 1126-24_raster.tif\n",
      "618 files to do\n",
      "reading ../sb_tab/1126-34.tab 132.754 x 1000 triangles\n",
      "create mini rasters\n",
      "7.53% 15.07% 22.6% 30.13% 37.66% 45.2% 52.73% 60.26% 67.79% 75.33% 82.86% 90.39% 97.93% \n",
      "combining all the mini rasters\n",
      "0.0% 6.67% 13.35% 20.02% 26.69% 33.37% 40.04% 46.71% 53.39% 60.06% 66.73% 73.41% 80.08% 86.75% 93.43% writing 1126-34_raster.tif\n",
      "617 files to do\n",
      "reading ../sb_tab/1126-44.tab 65.935 x 1000 triangles\n",
      "create mini rasters\n",
      "15.17% 30.33% 45.5% 60.67% 75.83% 91.0% \n",
      "combining all the mini rasters\n",
      "0.0% 12.75% 25.49% 38.24% 50.99% 63.73% 76.48% 89.23% writing 1126-44_raster.tif\n",
      "616 files to do\n",
      "reading ../sb_tab/1127-14.tab 312.969 x 1000 triangles\n",
      "create mini rasters\n",
      "3.2% 6.39% 9.59% 12.78% 15.98% 19.17% 22.37% 25.56% 28.76% 31.95% 35.15% 38.34% 41.54% 44.73% 47.93% 51.12% 54.32% 57.51% 60.71% 63.9% 67.1% 70.29% 73.49% 76.68% 79.88% 83.08% 86.27% 89.47% 92.66% 95.86% 99.05% \n",
      "combining all the mini rasters\n",
      "0.0% 2.87% 5.74% 8.62% 11.49% 14.36% 17.23% 20.1% 22.98% 25.85% 28.72% 31.59% 34.46% 37.34% 40.21% 43.08% 45.95% 48.82% 51.7% 54.57% 57.44% 60.31% 63.18% 66.05% 68.93% 71.8% 74.67% 77.54% 80.41% 83.29% 86.16% 89.03% 91.9% 94.77% 97.65% writing 1127-14_raster.tif\n",
      "615 files to do\n",
      "reading ../sb_tab/1127-24.tab 194.338 x 1000 triangles\n",
      "create mini rasters\n",
      "5.15% 10.29% 15.44% 20.58% 25.73% 30.87% 36.02% 41.17% 46.31% 51.46% 56.6% 61.75% 66.89% 72.04% 77.19% 82.33% 87.48% 92.62% 97.77% \n",
      "combining all the mini rasters\n",
      "0.0% 4.61% 9.23% 13.84% 18.46% 23.07% 27.69% 32.3% 36.91% 41.53% 46.14% 50.76% 55.37% 59.99% 64.6% 69.21% 73.83% 78.44% 83.06% 87.67% 92.28% 96.9% writing 1127-24_raster.tif\n",
      "614 files to do\n",
      "reading ../sb_tab/1127-34.tab 187.393 x 1000 triangles\n",
      "create mini rasters\n",
      "5.34% 10.67% 16.01% 21.35% 26.68% 32.02% 37.35% 42.69% 48.03% 53.36% 58.7% 64.04% 69.37% 74.71% 80.05% 85.38% 90.72% 96.05% \n",
      "combining all the mini rasters\n",
      "0.0% 4.53% 9.06% 13.59% 18.12% 22.65% 27.18% 31.71% 36.23% 40.76% 45.29% 49.82% 54.35% 58.88% 63.41% 67.94% 72.47% 77.0% 81.53% 86.06% 90.59% 95.12% 99.64% writing 1127-34_raster.tif\n",
      "613 files to do\n",
      "reading ../sb_tab/1127-44.tab 57.138 x 1000 triangles\n",
      "create mini rasters\n",
      "17.5% 35.0% 52.5% 70.01% 87.51% \n",
      "combining all the mini rasters\n",
      "0.0% 20.49% 40.97% 61.46% 81.94% writing 1127-44_raster.tif\n",
      "612 files to do\n",
      "reading ../sb_tab/1128-14.tab 111.951 x 1000 triangles\n",
      "create mini rasters\n",
      "8.93% 17.86% 26.8% 35.73% 44.66% 53.59% 62.53% 71.46% 80.39% 89.32% 98.26% \n",
      "combining all the mini rasters\n",
      "0.0% 9.65% 19.31% 28.96% 38.61% 48.26% 57.92% 67.57% 77.22% 86.88% 96.53% writing 1128-14_raster.tif\n",
      "611 files to do\n",
      "reading ../sb_tab/1128-24.tab 71.601 x 1000 triangles\n",
      "create mini rasters\n",
      "13.97% 27.93% 41.9% 55.87% 69.83% 83.8% 97.76% \n",
      "combining all the mini rasters\n",
      "0.0% 16.01% 32.01% 48.02% 64.03% 80.03% 96.04% writing 1128-24_raster.tif\n",
      "610 files to do\n",
      "reading ../sb_tab/1128-34.tab 83.486 x 1000 triangles\n",
      "create mini rasters\n",
      "11.98% 23.96% 35.93% 47.91% 59.89% 71.87% 83.85% 95.82% \n",
      "combining all the mini rasters\n",
      "0.0% 11.6% 23.21% 34.81% 46.42% 58.02% 69.63% 81.23% 92.84% writing 1128-34_raster.tif\n",
      "609 files to do\n",
      "reading ../sb_tab/1128-44.tab 71.958 x 1000 triangles\n",
      "create mini rasters\n",
      "13.9% 27.79% 41.69% 55.59% 69.48% 83.38% 97.28% \n",
      "combining all the mini rasters\n",
      "0.0% 16.23% "
     ]
    }
   ],
   "source": [
    "# MAIN\n",
    "while True:\n",
    "    tag = get_tag_todo()\n",
    "    if tag is not None:\n",
    "        # Create list of mini dataframes\n",
    "        ldf = get_df_list(f'../sb_tab/{tag}.tab')\n",
    "\n",
    "        # Create empty raster\n",
    "        big = get_big_empty(ldf)\n",
    "\n",
    "        print('\\ncombining all the mini rasters')\n",
    "        for i, small in enumerate(ldf):\n",
    "            mio.show_perc(i, len(ldf), 2_000)\n",
    "            xmin, xmax = small.columns.min(), small.columns.max()\n",
    "            ymin, ymax = small.index.min(), small.index.max()\n",
    "            big.loc[ymax:ymin, xmin:xmax] = np.maximum(big.loc[ymax:ymin, xmin:xmax], small)\n",
    "\n",
    "        # Save raster file\n",
    "        print(f'writing {tag}_raster.tif')\n",
    "        res = (big.fillna(0) + 0.5).astype('int16')\n",
    "        mio.write_raster(res, f'../sb_tif/{tag}_raster.tif')\n",
    "        time.sleep(10)"
   ]
  },
  {
   "cell_type": "code",
   "execution_count": null,
   "metadata": {},
   "outputs": [],
   "source": []
  },
  {
   "cell_type": "code",
   "execution_count": null,
   "metadata": {},
   "outputs": [],
   "source": []
  },
  {
   "cell_type": "code",
   "execution_count": null,
   "metadata": {},
   "outputs": [],
   "source": []
  },
  {
   "cell_type": "code",
   "execution_count": null,
   "metadata": {},
   "outputs": [],
   "source": []
  },
  {
   "cell_type": "code",
   "execution_count": null,
   "metadata": {},
   "outputs": [],
   "source": []
  },
  {
   "cell_type": "code",
   "execution_count": null,
   "metadata": {},
   "outputs": [],
   "source": []
  }
 ],
 "metadata": {
  "kernelspec": {
   "display_name": "Python 3",
   "language": "python",
   "name": "python3"
  },
  "language_info": {
   "codemirror_mode": {
    "name": "ipython",
    "version": 3
   },
   "file_extension": ".py",
   "mimetype": "text/x-python",
   "name": "python",
   "nbconvert_exporter": "python",
   "pygments_lexer": "ipython3",
   "version": "3.7.1"
  }
 },
 "nbformat": 4,
 "nbformat_minor": 2
}
