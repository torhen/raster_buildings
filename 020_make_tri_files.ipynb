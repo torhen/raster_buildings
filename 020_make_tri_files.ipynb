{
 "cells": [
  {
   "cell_type": "code",
   "execution_count": 1,
   "metadata": {},
   "outputs": [],
   "source": [
    "import pandas as pd\n",
    "import pathlib\n",
    "import mio"
   ]
  },
  {
   "cell_type": "code",
   "execution_count": 2,
   "metadata": {},
   "outputs": [],
   "source": [
    "def read_tri(source):\n",
    "    dic = {}\n",
    "    with open(source) as fin:\n",
    "        for s in fin:\n",
    "            line = s.split()\n",
    "            token = line[0]\n",
    "            if not token in dic:\n",
    "                dic[token] = [line]\n",
    "            else:\n",
    "                dic[token].append(line)\n",
    "    if 'f' not in dic or 'g' not in dic or 'v' not in dic:\n",
    "        return [], [], []\n",
    "    df_g = pd.DataFrame(dic['g'], columns = ['token_g', 'lon', 'lat'])\n",
    "    df_v = pd.DataFrame(dic['v'], columns = ['token_v', 'x', 'y', 'z'])\n",
    "    df_v.index = df_v.index + 1\n",
    "    df_f = pd.DataFrame(dic['f'], columns = ['token_f', 'v1', 'v2', 'v3'])\n",
    "    df_f.v1 =df_f.v1.astype(int)\n",
    "    df_f.v2 =df_f.v2.astype(int)\n",
    "    df_f.v3 =df_f.v3.astype(int)\n",
    "\n",
    "    return df_g, df_v, df_f"
   ]
  },
  {
   "cell_type": "code",
   "execution_count": 3,
   "metadata": {},
   "outputs": [],
   "source": [
    "def full_tri(df_g, df_f):\n",
    "    tri = (\n",
    "    df_f\n",
    "    .join(df_v, on='v1')\n",
    "    .rename(columns = {'x' : 'x0', 'y' : 'y0', 'z' : 'z0'})\n",
    "    .drop(columns = 'token_v')\n",
    "    \n",
    "    .join(df_v, on='v2')\n",
    "    .rename(columns = {'x' : 'x1', 'y' : 'y1', 'z' : 'z1'})\n",
    "    .drop(columns = 'token_v')\n",
    "    \n",
    "    .join(df_v, on='v3')\n",
    "    .rename(columns = {'x' : 'x2', 'y' : 'y2', 'z' : 'z2'})\n",
    "    .drop(columns = 'token_v')\n",
    "    \n",
    "    .drop(columns = ['token_f', 'v1', 'v2', 'v3'])\n",
    "    \n",
    "    )\n",
    "\n",
    "    return tri"
   ]
  },
  {
   "cell_type": "code",
   "execution_count": 4,
   "metadata": {},
   "outputs": [
    {
     "data": {
      "text/plain": [
       "13187"
      ]
     },
     "execution_count": 4,
     "metadata": {},
     "output_type": "execute_result"
    }
   ],
   "source": [
    "objs = list(pathlib.Path('obj').glob('*.obj'))\n",
    "len(objs)"
   ]
  },
  {
   "cell_type": "code",
   "execution_count": 5,
   "metadata": {},
   "outputs": [
    {
     "name": "stdout",
     "output_type": "stream",
     "text": [
      "0.0% 0.76% 1.52% 2.27% 3.03% 3.79% 4.55% 5.31% 6.07% 6.82% 7.58% 8.34% 9.1% 9.86% 10.62% 11.37% 12.13% 12.89% 13.65% 14.41% 15.17% 15.92% 16.68% 17.44% 18.2% 18.96% 19.72% 20.47% 21.23% 21.99% 22.75% 23.51% 24.27% 25.02% 25.78% 26.54% 27.3% 28.06% 28.82% 29.57% 30.33% 31.09% \n",
      "Error obj\\1091-41_model_1893.obj\n",
      "31.85% 32.61% 33.37% 34.12% 34.88% 35.64% 36.4% 37.16% 37.92% 38.67% 39.43% 40.19% 40.95% 41.71% 42.47% 43.22% 43.98% 44.74% 45.5% 46.26% 47.02% 47.77% 48.53% 49.29% 50.05% 50.81% 51.57% 52.32% 53.08% 53.84% 54.6% 55.36% 56.12% 56.87% 57.63% 58.39% 59.15% 59.91% 60.67% 61.42% 62.18% 62.94% 63.7% 64.46% 65.22% 65.97% 66.73% 67.49% 68.25% 69.01% 69.77% 70.52% 71.28% 72.04% 72.8% 73.56% 74.32% 75.07% 75.83% 76.59% 77.35% 78.11% 78.87% 79.62% 80.38% 81.14% 81.9% 82.66% 83.42% 84.17% 84.93% 85.69% 86.45% 87.21% 87.97% 88.72% 89.48% 90.24% 91.0% 91.76% 92.52% 93.27% 94.03% 94.79% 95.55% 96.31% 97.07% 97.82% 98.58% 99.34% "
     ]
    }
   ],
   "source": [
    "for i, obj in enumerate(objs[0:]):\n",
    "    mio.show_perc(i, len(objs), 100)\n",
    "    source = pathlib.Path(obj)\n",
    "    df_g, df_v, df_f = read_tri(source)\n",
    "    if len(df_f) > 0:\n",
    "        tri = full_tri(df_g, df_f)\n",
    "        tri.insert(0, 'lat', float(df_g.lat))\n",
    "        tri.insert(0, 'lon', float(df_g.lon))\n",
    "        tri.to_csv(str(pathlib.Path('tri') / source.stem) + '.tri', index=None)\n",
    "    else:\n",
    "        print(f'\\nError {obj}')"
   ]
  },
  {
   "cell_type": "code",
   "execution_count": null,
   "metadata": {},
   "outputs": [],
   "source": []
  }
 ],
 "metadata": {
  "kernelspec": {
   "display_name": "Python 3",
   "language": "python",
   "name": "python3"
  },
  "language_info": {
   "codemirror_mode": {
    "name": "ipython",
    "version": 3
   },
   "file_extension": ".py",
   "mimetype": "text/x-python",
   "name": "python",
   "nbconvert_exporter": "python",
   "pygments_lexer": "ipython3",
   "version": "3.7.1"
  }
 },
 "nbformat": 4,
 "nbformat_minor": 2
}
