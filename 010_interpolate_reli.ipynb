{
 "cells": [
  {
   "cell_type": "code",
   "execution_count": 1,
   "metadata": {},
   "outputs": [],
   "source": [
    "%matplotlib inline\n",
    "import pandas as pd\n",
    "import geopandas as gpd\n",
    "import mio\n",
    "from matplotlib import pyplot as plt\n",
    "import pathlib"
   ]
  },
  {
   "cell_type": "code",
   "execution_count": 15,
   "metadata": {},
   "outputs": [],
   "source": [
    "source = r\"C:\\Buildings20\\25k_rel\\source_25m\\heights25m.bil\"\n",
    "dest_folder =  r\"C:\\Buildings20\\25k_rel\""
   ]
  },
  {
   "cell_type": "code",
   "execution_count": 16,
   "metadata": {},
   "outputs": [
    {
     "data": {
      "text/html": [
       "<div>\n",
       "<style scoped>\n",
       "    .dataframe tbody tr th:only-of-type {\n",
       "        vertical-align: middle;\n",
       "    }\n",
       "\n",
       "    .dataframe tbody tr th {\n",
       "        vertical-align: top;\n",
       "    }\n",
       "\n",
       "    .dataframe thead th {\n",
       "        text-align: right;\n",
       "    }\n",
       "</style>\n",
       "<table border=\"1\" class=\"dataframe\">\n",
       "  <thead>\n",
       "    <tr style=\"text-align: right;\">\n",
       "      <th></th>\n",
       "      <th>map_name</th>\n",
       "      <th>xmin</th>\n",
       "      <th>xmax</th>\n",
       "      <th>ymin</th>\n",
       "      <th>ymax</th>\n",
       "    </tr>\n",
       "  </thead>\n",
       "  <tbody>\n",
       "    <tr>\n",
       "      <th>0</th>\n",
       "      <td>Komb1011</td>\n",
       "      <td>672500</td>\n",
       "      <td>690000</td>\n",
       "      <td>290000</td>\n",
       "      <td>302000</td>\n",
       "    </tr>\n",
       "    <tr>\n",
       "      <th>1</th>\n",
       "      <td>Komb1012</td>\n",
       "      <td>690000</td>\n",
       "      <td>707500</td>\n",
       "      <td>290000</td>\n",
       "      <td>302000</td>\n",
       "    </tr>\n",
       "    <tr>\n",
       "      <th>2</th>\n",
       "      <td>Komb1031</td>\n",
       "      <td>672500</td>\n",
       "      <td>690000</td>\n",
       "      <td>278000</td>\n",
       "      <td>290000</td>\n",
       "    </tr>\n",
       "  </tbody>\n",
       "</table>\n",
       "</div>"
      ],
      "text/plain": [
       "   map_name    xmin    xmax    ymin    ymax\n",
       "0  Komb1011  672500  690000  290000  302000\n",
       "1  Komb1012  690000  707500  290000  302000\n",
       "2  Komb1031  672500  690000  278000  290000"
      ]
     },
     "execution_count": 16,
     "metadata": {},
     "output_type": "execute_result"
    }
   ],
   "source": [
    "coords = (\n",
    "    pd.read_excel('komb25.xlsx')\n",
    ")\n",
    "coords.head(3)"
   ]
  },
  {
   "cell_type": "code",
   "execution_count": 22,
   "metadata": {},
   "outputs": [
    {
     "name": "stdout",
     "output_type": "stream",
     "text": [
      "0.0% 0.38% 0.77% 1.15% 1.54% 1.92% 2.31% 2.69% 3.08% 3.46% 3.85% 4.23% 4.62% 5.0% 5.38% 5.77% 6.15% 6.54% 6.92% 7.31% 7.69% 8.08% 8.46% 8.85% 9.23% 9.62% 10.0% 10.38% 10.77% 11.15% 11.54% 11.92% 12.31% 12.69% 13.08% 13.46% 13.85% 14.23% 14.62% 15.0% 15.38% 15.77% 16.15% 16.54% 16.92% 17.31% 17.69% 18.08% 18.46% 18.85% 19.23% 19.62% 20.0% 20.38% 20.77% 21.15% 21.54% 21.92% 22.31% 22.69% 23.08% 23.46% 23.85% 24.23% 24.62% 25.0% 25.38% 25.77% 26.15% 26.54% 26.92% 27.31% 27.69% 28.08% 28.46% 28.85% 29.23% 29.62% 30.0% 30.38% 30.77% 31.15% 31.54% 31.92% 32.31% 32.69% 33.08% 33.46% 33.85% 34.23% 34.62% 35.0% 35.38% 35.77% 36.15% 36.54% 36.92% 37.31% 37.69% 38.08% 38.46% 38.85% 39.23% 39.62% 40.0% 40.38% 40.77% 41.15% 41.54% 41.92% 42.31% 42.69% 43.08% 43.46% 43.85% 44.23% 44.62% 45.0% 45.38% 45.77% 46.15% 46.54% 46.92% 47.31% 47.69% 48.08% 48.46% 48.85% 49.23% 49.62% 50.0% 50.38% 50.77% 51.15% 51.54% 51.92% 52.31% 52.69% 53.08% 53.46% 53.85% 54.23% 54.62% 55.0% 55.38% 55.77% 56.15% 56.54% 56.92% 57.31% 57.69% 58.08% 58.46% 58.85% 59.23% 59.62% 60.0% 60.38% 60.77% 61.15% 61.54% 61.92% 62.31% 62.69% 63.08% 63.46% 63.85% 64.23% 64.62% 65.0% 65.38% 65.77% 66.15% 66.54% 66.92% 67.31% 67.69% 68.08% 68.46% 68.85% 69.23% 69.62% 70.0% 70.38% 70.77% 71.15% 71.54% 71.92% 72.31% 72.69% 73.08% 73.46% 73.85% 74.23% 74.62% 75.0% 75.38% 75.77% 76.15% 76.54% 76.92% 77.31% 77.69% 78.08% 78.46% 78.85% 79.23% 79.62% 80.0% 80.38% 80.77% 81.15% 81.54% 81.92% 82.31% 82.69% 83.08% 83.46% 83.85% 84.23% 84.62% 85.0% 85.38% 85.77% 86.15% 86.54% 86.92% 87.31% 87.69% 88.08% 88.46% 88.85% 89.23% 89.62% 90.0% 90.38% 90.77% 91.15% 91.54% 91.92% 92.31% 92.69% 93.08% 93.46% 93.85% 94.23% 94.62% 95.0% 95.38% 95.77% 96.15% 96.54% 96.92% 97.31% 97.69% 98.08% 98.46% 98.85% 99.23% 99.62% "
     ]
    }
   ],
   "source": [
    "for ind, row in coords.iterrows():\n",
    "    mio.show_perc(ind, len(coords), 1)\n",
    "    x0 = row.xmin\n",
    "    y0 = row.ymin + 1\n",
    "    x1 = row.xmax\n",
    "    y1 = row.ymax + 1\n",
    "    map_name = row.map_name\n",
    "    dest = dest_folder + '\\\\' + 'rel_' + map_name[4:] + '.bil'\n",
    "    !del log.txt\n",
    "    !gdalwarp -overwrite $source $dest -tr 1 1 -te $x0 $y0 $x1 $y1 -r bilinear -ot int16 >> log.txt"
   ]
  },
  {
   "cell_type": "code",
   "execution_count": null,
   "metadata": {},
   "outputs": [],
   "source": []
  },
  {
   "cell_type": "code",
   "execution_count": null,
   "metadata": {},
   "outputs": [],
   "source": []
  },
  {
   "cell_type": "code",
   "execution_count": null,
   "metadata": {},
   "outputs": [],
   "source": []
  }
 ],
 "metadata": {
  "kernelspec": {
   "display_name": "Python 3",
   "language": "python",
   "name": "python3"
  },
  "language_info": {
   "codemirror_mode": {
    "name": "ipython",
    "version": 3
   },
   "file_extension": ".py",
   "mimetype": "text/x-python",
   "name": "python",
   "nbconvert_exporter": "python",
   "pygments_lexer": "ipython3",
   "version": "3.7.1"
  }
 },
 "nbformat": 4,
 "nbformat_minor": 2
}
