{
 "cells": [
  {
   "cell_type": "code",
   "execution_count": 1,
   "metadata": {},
   "outputs": [],
   "source": [
    "import pandas as pd\n",
    "import geopandas as gpd\n",
    "import mio\n",
    "import numpy as np\n",
    "from matplotlib import pyplot as plt\n",
    "import pathlib\n",
    "import time"
   ]
  },
  {
   "cell_type": "code",
   "execution_count": 2,
   "metadata": {},
   "outputs": [],
   "source": [
    "def tri_array(p0, p1, p2, area, px, py):\n",
    "    \n",
    "    r_shape = tri_shape(p0, p1, p2, area, px, py)\n",
    "    r_heights = tri_heights(p0, p1, p2, area, px, py)\n",
    "    \n",
    "    return r_shape * r_heights"
   ]
  },
  {
   "cell_type": "code",
   "execution_count": 3,
   "metadata": {},
   "outputs": [],
   "source": [
    "def tri_heights(p0, p1, p2, area, px, py):\n",
    "    # calculate the triangle plane\n",
    "    Ax, Ay, Az = p0\n",
    "    Bx, By, Bz = p1\n",
    "    Cx, Cy, Cz = p2\n",
    "    \n",
    "    AB = (Bx - Ax, By - Ay, Bz - Az)\n",
    "    AC = (Cx - Ax, Cy - Ay, Cz - Az)\n",
    "    \n",
    "    # AB x AC = (a,b,c)\n",
    "    # Plane equasion: ax + by + cz + d = 0\n",
    "    a, b, c = np.cross(AB, AC)\n",
    "    d = -(a * Ax + b * Ay + c * Az)\n",
    " \n",
    "    pz  = (-a * px - b * py - d) / c\n",
    "\n",
    "    return pz"
   ]
  },
  {
   "cell_type": "raw",
   "metadata": {},
   "source": [
    "# test tri_heights\n",
    "p0 = (0,0,3)\n",
    "p1 = (1,0,3)\n",
    "p2 = (0,1,3)\n",
    "\n",
    "x = np.arange(-5, 5, 1)\n",
    "y = np.arange(-5, 5, 1)\n",
    "px, py = np.meshgrid(x, y)\n",
    "\n",
    "tri_heights(p0, p1, p2, 0, px, py)"
   ]
  },
  {
   "cell_type": "code",
   "execution_count": 4,
   "metadata": {},
   "outputs": [],
   "source": [
    "def tri_shape(p0, p1, p2, area, px, py):\n",
    "    # calc the outline of the triangles\n",
    "    p0x, p0y, _ = p0\n",
    "    p1x, p1y, _ = p1\n",
    "    p2x, p2y, _ = p2\n",
    "    \n",
    "    # do the calc, using stolen formula\n",
    "    s = 1/(2*area)*(p0y*p2x - p0x*p2y + (p2y - p0y)*px + (p0x - p2x)*py)\n",
    "    t = 1/(2*area)*(p0x*p1y - p0y*p1x + (p0y - p1y)*px + (p1x - p0x)*py)\n",
    "    u = 1 - s -t\n",
    "    r = (s>0) & (t>0) & (u>0)\n",
    "    \n",
    "    return r.astype(int)"
   ]
  },
  {
   "cell_type": "code",
   "execution_count": 5,
   "metadata": {},
   "outputs": [],
   "source": [
    "def signed_area(p0, p1, p2):\n",
    "        # calc signed area of triangle\n",
    "        p0x, p0y, _ = p0\n",
    "        p1x, p1y, _ = p1\n",
    "        p2x, p2y, _ = p2\n",
    "        \n",
    "        a = 0.5 *(-p1y*p2x + p0y*(-p1x + p2x) + p0x*(p1y - p2y) + p1x*p2y)\n",
    "\n",
    "        return a"
   ]
  },
  {
   "cell_type": "code",
   "execution_count": 6,
   "metadata": {},
   "outputs": [],
   "source": [
    "def create_meshgrid(p0, p1, p2):\n",
    "    xmin = int(min(p0[0], p1[0], p2[0])) -1\n",
    "    xmax = int(max(p0[0], p1[0], p2[0])) +1\n",
    "    ymin = int(min(p0[1], p1[1], p2[1])) -1\n",
    "    ymax = int(max(p0[1], p1[1], p2[1])) +1\n",
    "    df = pd.DataFrame(\n",
    "        columns = range(xmin, xmax, 1),\n",
    "        index = range(ymax, ymin, -1),\n",
    "        data = 0\n",
    "    )\n",
    "    xa = np.arange(xmin, xmax,  1)\n",
    "    ya = np.arange(ymax, ymin, -1)\n",
    "    px, py = np.meshgrid(xa, ya)\n",
    "    return xa, ya, px, py"
   ]
  },
  {
   "cell_type": "code",
   "execution_count": 7,
   "metadata": {},
   "outputs": [],
   "source": [
    "def get_df_list(tab):\n",
    "    print(f'reading {tab}', end=' ')\n",
    "    vec = gpd.read_file(tab)\n",
    "    ldf = []\n",
    "    count_ok = 0\n",
    "    count_er = 0\n",
    "    \n",
    "    i = 0\n",
    "    print(len(vec) / 1e3, 'x 1000 triangles')\n",
    "    print('create mini rasters')\n",
    "    for ind, row in vec.iterrows():\n",
    "        i += 1\n",
    "        mio.show_perc(i, len(vec), 10000)\n",
    "        p0 = (row.x0, row.y0, row.z0)\n",
    "        p1 = (row.x1, row.y1, row.z1)\n",
    "        p2 = (row.x2, row.y2, row.z2)\n",
    "\n",
    "        xa, ya, px, py = create_meshgrid(p0, p1, p2)\n",
    "\n",
    "        area = signed_area(p0, p1, p2)\n",
    "\n",
    "        # get rid of mini areas\n",
    "        if area >= 0.5:\n",
    "            count_ok += 1\n",
    "            ar = tri_array(p0, p1, p2, area, px, py)\n",
    "            df = pd.DataFrame(ar, columns=xa, index=ya)\n",
    "            if len(df) > 0:\n",
    "                ldf.append(df)\n",
    "        else:\n",
    "            # propably vertical\n",
    "            count_er += 1\n",
    "    return ldf"
   ]
  },
  {
   "cell_type": "code",
   "execution_count": 8,
   "metadata": {},
   "outputs": [],
   "source": [
    "def get_big_empty(ldf):\n",
    "    lx, ly = [], []\n",
    "    for df in ldf:\n",
    "        lx.append(df.columns.min())\n",
    "        lx.append(df.columns.max())\n",
    "        ly.append(df.index.min())\n",
    "        ly.append(df.index.max())\n",
    "    xmin, xmax = min(lx)-5, max(lx)+5\n",
    "    ymin, ymax = min(ly)-5, max(ly)+5\n",
    "    \n",
    "    empty = pd.DataFrame(\n",
    "        columns = range(xmin, xmax, 1),\n",
    "        index = range(ymax, ymin, -1),\n",
    "        data = 0\n",
    "    )\n",
    "    return empty"
   ]
  },
  {
   "cell_type": "code",
   "execution_count": 11,
   "metadata": {},
   "outputs": [],
   "source": [
    "def get_tag_todo():\n",
    "    source_dir = pathlib.Path('tab')\n",
    "    tags_all = set([d.stem for d in source_dir.glob('*.tab')])\n",
    "\n",
    "    dest_dir = pathlib.Path('tif')\n",
    "    tags_done =  set([t.stem[0:7] for t in dest_dir.glob('*.tif')])\n",
    "    #print(tags_done)\n",
    "\n",
    "    tags_todo = tags_all.difference(tags_done)\n",
    "    #print(tags_todo)\n",
    "    l = list(tags_todo)\n",
    "    l.sort()\n",
    "    if len(l) >0:\n",
    "        print(f\"{len(l)} files to do\")\n",
    "        return l[0]\n",
    "    else:\n",
    "        return"
   ]
  },
  {
   "cell_type": "code",
   "execution_count": 12,
   "metadata": {},
   "outputs": [
    {
     "name": "stdout",
     "output_type": "stream",
     "text": [
      "1 files to do\n"
     ]
    },
    {
     "data": {
      "text/plain": [
       "'1091-41'"
      ]
     },
     "execution_count": 12,
     "metadata": {},
     "output_type": "execute_result"
    }
   ],
   "source": [
    "get_tag_todo()"
   ]
  },
  {
   "cell_type": "code",
   "execution_count": null,
   "metadata": {},
   "outputs": [
    {
     "name": "stdout",
     "output_type": "stream",
     "text": [
      "1 files to do\n",
      "reading tab/1091-41.tab 2252.844 x 1000 triangles\n",
      "create mini rasters\n",
      "0.44% 0.89% 1.33% 1.78% 2.22% 2.66% 3.11% 3.55% 3.99% 4.44% 4.88% 5.33% 5.77% 6.21% 6.66% 7.1% 7.55% 7.99% 8.43% 8.88% 9.32% 9.77% 10.21% 10.65% 11.1% 11.54% 11.98% 12.43% 12.87% 13.32% 13.76% 14.2% 14.65% 15.09% 15.54% 15.98% 16.42% 16.87% 17.31% 17.76% 18.2% 18.64% 19.09% 19.53% 19.97% 20.42% 20.86% 21.31% 21.75% 22.19% 22.64% 23.08% 23.53% 23.97% 24.41% 24.86% 25.3% 25.75% 26.19% 26.63% 27.08% 27.52% 27.96% 28.41% 28.85% 29.3% 29.74% 30.18% 30.63% 31.07% 31.52% 31.96% 32.4% 32.85% 33.29% 33.74% 34.18% 34.62% 35.07% 35.51% 35.95% 36.4% 36.84% 37.29% 37.73% 38.17% 38.62% 39.06% 39.51% 39.95% 40.39% 40.84% 41.28% 41.73% 42.17% 42.61% 43.06% 43.5% 43.94% 44.39% 44.83% 45.28% 45.72% 46.16% 46.61% 47.05% 47.5% 47.94% 48.38% 48.83% 49.27% 49.71% 50.16% 50.6% 51.05% 51.49% 51.93% 52.38% 52.82% 53.27% 53.71% 54.15% 54.6% 55.04% 55.49% 55.93% 56.37% 56.82% 57.26% 57.7% 58.15% 58.59% 59.04% 59.48% 59.92% 60.37% 60.81% 61.26% 61.7% 62.14% 62.59% 63.03% 63.48% 63.92% 64.36% 64.81% 65.25% 65.69% 66.14% 66.58% 67.03% 67.47% 67.91% 68.36% 68.8% 69.25% 69.69% 70.13% 70.58% 71.02% 71.47% 71.91% 72.35% 72.8% 73.24% 73.68% 74.13% 74.57% 75.02% 75.46% 75.9% 76.35% 76.79% 77.24% 77.68% 78.12% 78.57% 79.01% 79.46% 79.9% 80.34% 80.79% 81.23% 81.67% 82.12% 82.56% 83.01% 83.45% 83.89% 84.34% 84.78% 85.23% 85.67% 86.11% 86.56% 87.0% 87.45% 87.89% 88.33% 88.78% 89.22% 89.66% 90.11% 90.55% 91.0% 91.44% 91.88% 92.33% 92.77% 93.22% 93.66% 94.1% 94.55% 94.99% 95.43% 95.88% 96.32% 96.77% 97.21% 97.65% 98.1% 98.54% 98.99% 99.43% 99.87% \n",
      "combining all the mini rasters\n",
      "0.0% 1.09% 2.18% 3.27% 4.36% 5.45% 6.54% 7.63% 8.72% 9.81% 10.9% 11.99% 13.08% 14.17% 15.26% 16.35% 17.44% 18.53% 19.62% 20.71% 21.8% 22.89% 23.98% 25.07% 26.16% 27.25% 28.34% 29.43% 30.52% 31.61% 32.7% 33.79% 34.88% 35.97% 37.06% 38.15% 39.24% 40.33% 41.42% 42.51% 43.6% 44.69% 45.78% 46.87% 47.96% 49.05% 50.14% 51.23% 52.32% 53.41% 54.5% 55.59% 56.68% 57.77% 58.86% 59.95% 61.04% 62.13% 63.22% 64.31% 65.4% 66.49% 67.58% 68.67% 69.76% 70.85% 71.94% 73.03% 74.12% 75.21% 76.29% 77.38% 78.47% 79.56% 80.65% 81.74% 82.83% 83.92% 85.01% 86.1% 87.19% 88.28% 89.37% 90.46% 91.55% 92.64% 93.73% 94.82% 95.91% 97.0% 98.09% 99.18% writing 1091-41_raster.tif\n"
     ]
    }
   ],
   "source": [
    "# MAIN\n",
    "while True:\n",
    "    tag = get_tag_todo()\n",
    "    if tag is not None:\n",
    "        # Create list of mini dataframes\n",
    "        ldf = get_df_list(f'tab/{tag}.tab')\n",
    "\n",
    "        # Create empty raster\n",
    "        big = get_big_empty(ldf)\n",
    "\n",
    "        print('\\ncombining all the mini rasters')\n",
    "        for i, small in enumerate(ldf):\n",
    "            mio.show_perc(i, len(ldf), 5_000)\n",
    "            xmin, xmax = small.columns.min(), small.columns.max()\n",
    "            ymin, ymax = small.index.min(), small.index.max()\n",
    "            big.loc[ymax:ymin, xmin:xmax] = np.maximum(big.loc[ymax:ymin, xmin:xmax], small)\n",
    "\n",
    "        # Save raster file\n",
    "        print(f'writing {tag}_raster.tif')\n",
    "        mio.write_raster(big.fillna(0).astype('int16'), f'tif/{tag}_raster.tif')\n",
    "        time.sleep(10)"
   ]
  },
  {
   "cell_type": "code",
   "execution_count": null,
   "metadata": {},
   "outputs": [],
   "source": []
  }
 ],
 "metadata": {
  "kernelspec": {
   "display_name": "Python 3",
   "language": "python",
   "name": "python3"
  },
  "language_info": {
   "codemirror_mode": {
    "name": "ipython",
    "version": 3
   },
   "file_extension": ".py",
   "mimetype": "text/x-python",
   "name": "python",
   "nbconvert_exporter": "python",
   "pygments_lexer": "ipython3",
   "version": "3.7.1"
  }
 },
 "nbformat": 4,
 "nbformat_minor": 2
}
