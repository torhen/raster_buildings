{
 "cells": [
  {
   "cell_type": "code",
   "execution_count": 2,
   "metadata": {},
   "outputs": [],
   "source": [
    "import pandas as pd\n",
    "import mio\n",
    "import numpy as np\n",
    "from matplotlib import pyplot as plt"
   ]
  },
  {
   "cell_type": "code",
   "execution_count": 5,
   "metadata": {},
   "outputs": [
    {
     "name": "stdout",
     "output_type": "stream",
     "text": [
      "read building heights above sea level\n",
      "read relief data\n",
      "read vegatation heights over ground\n",
      "calc buildings over ground\n",
      "create clutter classes 1 = vegetation, 2 = buildings\n",
      "create clutter heights layer\n"
     ]
    }
   ],
   "source": [
    "tag = '1031'\n",
    "print('read building heights above sea level')\n",
    "sl_bui = (\n",
    "    mio.read_raster(f'../25k_sl_bui/{tag}_sl_bui.bil')[0]\n",
    "    .replace(0, np.nan)\n",
    ")\n",
    "\n",
    "print('read relief data')\n",
    "rel = mio.read_raster(f'../25k_rel/{tag}_rel.bil')[0]\n",
    "\n",
    "print('read vegatation heights over ground')\n",
    "veg = mio.read_raster(f'../25k_veg/veg_{tag}.bil')[0]\n",
    "\n",
    "print('calc buildings over ground')\n",
    "bui = (sl_bui - rel).fillna(0)\n",
    "\n",
    "\n",
    "print('create clutter classes 1 = vegetation, 2 = buildings')\n",
    "cla = np.maximum(2 * (bui>0).astype(int) , (veg>0).astype(int) )\n",
    "mio.write_raster(cla.astype('uint8'), f'../25k_cl_class/{tag}_cl_class.bil')\n",
    "\n",
    "print('create clutter heights layer')\n",
    "hei = np.maximum(bui , veg )\n",
    "mio.write_raster(hei.astype('uint8'), f'../25k_cl_height/{tag}_cl_height.bil')"
   ]
  },
  {
   "cell_type": "code",
   "execution_count": null,
   "metadata": {},
   "outputs": [],
   "source": []
  },
  {
   "cell_type": "code",
   "execution_count": null,
   "metadata": {},
   "outputs": [],
   "source": []
  },
  {
   "cell_type": "code",
   "execution_count": null,
   "metadata": {},
   "outputs": [],
   "source": []
  },
  {
   "cell_type": "code",
   "execution_count": null,
   "metadata": {},
   "outputs": [],
   "source": []
  }
 ],
 "metadata": {
  "kernelspec": {
   "display_name": "Python 3",
   "language": "python",
   "name": "python3"
  },
  "language_info": {
   "codemirror_mode": {
    "name": "ipython",
    "version": 3
   },
   "file_extension": ".py",
   "mimetype": "text/x-python",
   "name": "python",
   "nbconvert_exporter": "python",
   "pygments_lexer": "ipython3",
   "version": "3.7.1"
  }
 },
 "nbformat": 4,
 "nbformat_minor": 2
}
