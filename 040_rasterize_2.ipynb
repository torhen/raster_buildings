{
 "cells": [
  {
   "cell_type": "code",
   "execution_count": 1,
   "metadata": {},
   "outputs": [],
   "source": [
    "pattern = '*2.tab'"
   ]
  },
  {
   "cell_type": "code",
   "execution_count": 2,
   "metadata": {},
   "outputs": [],
   "source": [
    "import pandas as pd\n",
    "import geopandas as gpd\n",
    "import mio\n",
    "import numpy as np\n",
    "from matplotlib import pyplot as plt\n",
    "import pathlib\n",
    "import time"
   ]
  },
  {
   "cell_type": "code",
   "execution_count": 3,
   "metadata": {},
   "outputs": [],
   "source": [
    "def tri_array(p0, p1, p2, area, px, py):\n",
    "    \n",
    "    r_shape = tri_shape(p0, p1, p2, area, px, py)\n",
    "    r_heights = tri_heights(p0, p1, p2, area, px, py)\n",
    "    \n",
    "    return r_shape * r_heights"
   ]
  },
  {
   "cell_type": "code",
   "execution_count": 4,
   "metadata": {},
   "outputs": [],
   "source": [
    "def tri_heights(p0, p1, p2, area, px, py):\n",
    "    # calculate the triangle plane\n",
    "    Ax, Ay, Az = p0\n",
    "    Bx, By, Bz = p1\n",
    "    Cx, Cy, Cz = p2\n",
    "    \n",
    "    AB = (Bx - Ax, By - Ay, Bz - Az)\n",
    "    AC = (Cx - Ax, Cy - Ay, Cz - Az)\n",
    "    \n",
    "    # AB x AC = (a,b,c)\n",
    "    # Plane equasion: ax + by + cz + d = 0\n",
    "    a, b, c = np.cross(AB, AC)\n",
    "    d = -(a * Ax + b * Ay + c * Az)\n",
    " \n",
    "    pz  = (-a * px - b * py - d) / c\n",
    "\n",
    "    return pz"
   ]
  },
  {
   "cell_type": "raw",
   "metadata": {},
   "source": [
    "# test tri_heights\n",
    "p0 = (0,0,3)\n",
    "p1 = (1,0,3)\n",
    "p2 = (0,1,3)\n",
    "\n",
    "x = np.arange(-5, 5, 1)\n",
    "y = np.arange(-5, 5, 1)\n",
    "px, py = np.meshgrid(x, y)\n",
    "\n",
    "tri_heights(p0, p1, p2, 0, px, py)"
   ]
  },
  {
   "cell_type": "code",
   "execution_count": 5,
   "metadata": {},
   "outputs": [],
   "source": [
    "def tri_shape(p0, p1, p2, area, px, py):\n",
    "    # calc the outline of the triangles\n",
    "    p0x, p0y, _ = p0\n",
    "    p1x, p1y, _ = p1\n",
    "    p2x, p2y, _ = p2\n",
    "    \n",
    "    # do the calc, using stolen formula\n",
    "    s = 1/(2*area)*(p0y*p2x - p0x*p2y + (p2y - p0y)*px + (p0x - p2x)*py)\n",
    "    t = 1/(2*area)*(p0x*p1y - p0y*p1x + (p0y - p1y)*px + (p1x - p0x)*py)\n",
    "    u = 1 - s -t\n",
    "    r = (s>0) & (t>0) & (u>0)\n",
    "    \n",
    "    return r.astype(int)"
   ]
  },
  {
   "cell_type": "code",
   "execution_count": 6,
   "metadata": {},
   "outputs": [],
   "source": [
    "def signed_area(p0, p1, p2):\n",
    "        # calc signed area of triangle\n",
    "        p0x, p0y, _ = p0\n",
    "        p1x, p1y, _ = p1\n",
    "        p2x, p2y, _ = p2\n",
    "        \n",
    "        a = 0.5 *(-p1y*p2x + p0y*(-p1x + p2x) + p0x*(p1y - p2y) + p1x*p2y)\n",
    "\n",
    "        return a"
   ]
  },
  {
   "cell_type": "code",
   "execution_count": 7,
   "metadata": {},
   "outputs": [],
   "source": [
    "def create_meshgrid(p0, p1, p2):\n",
    "    xmin = int(min(p0[0], p1[0], p2[0])) -1\n",
    "    xmax = int(max(p0[0], p1[0], p2[0])) +1\n",
    "    ymin = int(min(p0[1], p1[1], p2[1])) -1\n",
    "    ymax = int(max(p0[1], p1[1], p2[1])) +1\n",
    "    df = pd.DataFrame(\n",
    "        columns = range(xmin, xmax, 1),\n",
    "        index = range(ymax, ymin, -1),\n",
    "        data = 0\n",
    "    )\n",
    "    xa = np.arange(xmin, xmax,  1)\n",
    "    ya = np.arange(ymax, ymin, -1)\n",
    "    px, py = np.meshgrid(xa, ya)\n",
    "    return xa, ya, px, py"
   ]
  },
  {
   "cell_type": "code",
   "execution_count": 8,
   "metadata": {},
   "outputs": [],
   "source": [
    "def get_df_list(tab):\n",
    "    print(f'reading {tab}', end=' ')\n",
    "    vec = gpd.read_file(tab)\n",
    "    ldf = []\n",
    "    count_ok = 0\n",
    "    count_er = 0\n",
    "    \n",
    "    i = 0\n",
    "    print(len(vec) / 1e3, 'x 1000 triangles')\n",
    "    print('create mini rasters')\n",
    "    for ind, row in vec.iterrows():\n",
    "        i += 1\n",
    "        mio.show_perc(i, len(vec), 10000)\n",
    "        p0 = (row.x0, row.y0, row.z0)\n",
    "        p1 = (row.x1, row.y1, row.z1)\n",
    "        p2 = (row.x2, row.y2, row.z2)\n",
    "\n",
    "        xa, ya, px, py = create_meshgrid(p0, p1, p2)\n",
    "\n",
    "        area = signed_area(p0, p1, p2)\n",
    "\n",
    "        # get rid of mini areas\n",
    "        if area >= 0.5:\n",
    "            count_ok += 1\n",
    "            ar = tri_array(p0, p1, p2, area, px, py)\n",
    "            df = pd.DataFrame(ar, columns=xa, index=ya)\n",
    "            if len(df) > 0:\n",
    "                ldf.append(df)\n",
    "        else:\n",
    "            # propably vertical\n",
    "            count_er += 1\n",
    "    return ldf"
   ]
  },
  {
   "cell_type": "code",
   "execution_count": 9,
   "metadata": {},
   "outputs": [],
   "source": [
    "def get_big_empty(ldf):\n",
    "    lx, ly = [], []\n",
    "    for df in ldf:\n",
    "        lx.append(df.columns.min())\n",
    "        lx.append(df.columns.max())\n",
    "        ly.append(df.index.min())\n",
    "        ly.append(df.index.max())\n",
    "    xmin, xmax = min(lx)-5, max(lx)+5\n",
    "    ymin, ymax = min(ly)-5, max(ly)+5\n",
    "    \n",
    "    empty = pd.DataFrame(\n",
    "        columns = range(xmin, xmax, 1),\n",
    "        index = range(ymax, ymin, -1),\n",
    "        data = 0\n",
    "    )\n",
    "    return empty"
   ]
  },
  {
   "cell_type": "code",
   "execution_count": 10,
   "metadata": {},
   "outputs": [],
   "source": [
    "def get_tag_todo():\n",
    "    source_dir = pathlib.Path('../sb_tab')\n",
    "    tags_all = set([d.stem for d in source_dir.glob(pattern)])\n",
    "\n",
    "    dest_dir = pathlib.Path('../sb_tif')\n",
    "    tags_done =  set([t.stem[0:7] for t in dest_dir.glob('*.tif')])\n",
    "    #print(tags_done)\n",
    "\n",
    "    tags_todo = tags_all.difference(tags_done)\n",
    "    #print(tags_todo)\n",
    "    l = list(tags_todo)\n",
    "    l.sort()\n",
    "    if len(l) >0:\n",
    "        print(f\"{len(l)} files to do\")\n",
    "        return l[0]\n",
    "    else:\n",
    "        return"
   ]
  },
  {
   "cell_type": "code",
   "execution_count": 11,
   "metadata": {},
   "outputs": [
    {
     "name": "stdout",
     "output_type": "stream",
     "text": [
      "605 files to do\n"
     ]
    },
    {
     "data": {
      "text/plain": [
       "'1131-22'"
      ]
     },
     "execution_count": 11,
     "metadata": {},
     "output_type": "execute_result"
    }
   ],
   "source": [
    "get_tag_todo()"
   ]
  },
  {
   "cell_type": "code",
   "execution_count": null,
   "metadata": {},
   "outputs": [
    {
     "name": "stdout",
     "output_type": "stream",
     "text": [
      "605 files to do\n",
      "reading ../sb_tab/1131-22.tab 96.467 x 1000 triangles\n",
      "create mini rasters\n",
      "10.37% 20.73% 31.1% 41.46% 51.83% 62.2% 72.56% 82.93% 93.3% \n",
      "combining all the mini rasters\n",
      "0.0% 10.81% 21.62% 32.42% 43.23% 54.04% 64.85% 75.66% 86.46% 97.27% writing 1131-22_raster.tif\n",
      "604 files to do\n",
      "reading ../sb_tab/1131-32.tab 46.131 x 1000 triangles\n",
      "create mini rasters\n",
      "21.68% 43.35% 65.03% 86.71% \n",
      "combining all the mini rasters\n",
      "0.0% 22.01% 44.02% 66.03% 88.04% writing 1131-32_raster.tif\n",
      "603 files to do\n",
      "reading ../sb_tab/1131-42.tab 196.611 x 1000 triangles\n",
      "create mini rasters\n",
      "5.09% 10.17% 15.26% 20.34% 25.43% 30.52% 35.6% 40.69% 45.78% 50.86% 55.95% 61.03% 66.12% 71.21% 76.29% 81.38% 86.47% 91.55% 96.64% \n",
      "combining all the mini rasters\n",
      "0.0% 4.8% 9.61% 14.41% 19.21% 24.01% 28.82% 33.62% 38.42% 43.22% 48.03% 52.83% 57.63% 62.43% 67.24% 72.04% 76.84% 81.64% 86.45% 91.25% 96.05% writing 1131-42_raster.tif\n",
      "602 files to do\n",
      "reading ../sb_tab/1132-12.tab 429.778 x 1000 triangles\n",
      "create mini rasters\n",
      "2.33% 4.65% 6.98% 9.31% 11.63% 13.96% 16.29% 18.61% 20.94% 23.27% 25.59% 27.92% 30.25% 32.57% 34.9% 37.23% 39.56% 41.88% 44.21% 46.54% 48.86% 51.19% 53.52% 55.84% 58.17% 60.5% 62.82% 65.15% 67.48% 69.8% 72.13% 74.46% 76.78% 79.11% 81.44% 83.76% 86.09% 88.42% 90.74% 93.07% 95.4% 97.72% \n",
      "combining all the mini rasters\n",
      "0.0% 2.31% 4.61% 6.92% 9.23% 11.53% 13.84% 16.15% 18.46% 20.76% 23.07% 25.38% 27.68% 29.99% 32.3% 34.6% 36.91% 39.22% 41.52% 43.83% 46.14% 48.44% 50.75% 53.06% 55.37% 57.67% 59.98% 62.29% 64.59% 66.9% 69.21% 71.51% 73.82% 76.13% 78.43% 80.74% 83.05% 85.35% 87.66% 89.97% 92.28% 94.58% 96.89% 99.2% writing 1132-12_raster.tif\n",
      "601 files to do\n",
      "reading ../sb_tab/1132-22.tab 205.981 x 1000 triangles\n",
      "create mini rasters\n",
      "4.85% 9.71% 14.56% 19.42% 24.27% 29.13% 33.98% 38.84% 43.69% 48.55% 53.4% 58.26% 63.11% 67.97% 72.82% 77.68% 82.53% 87.39% 92.24% 97.1% \n",
      "combining all the mini rasters\n",
      "0.0% 4.63% 9.27% 13.9% 18.53% 23.16% 27.8% 32.43% 37.06% 41.7% 46.33% 50.96% 55.6% 60.23% 64.86% 69.49% 74.13% 78.76% 83.39% 88.03% 92.66% 97.29% writing 1132-22_raster.tif\n",
      "600 files to do\n",
      "reading ../sb_tab/1132-32.tab 43.091 x 1000 triangles\n",
      "create mini rasters\n",
      "23.21% 46.41% 69.62% 92.83% \n",
      "combining all the mini rasters\n",
      "0.0% 24.13% 48.27% 72.4% 96.54% writing 1132-32_raster.tif\n",
      "599 files to do\n",
      "reading ../sb_tab/1132-42.tab 8.698 x 1000 triangles\n",
      "create mini rasters\n",
      "\n",
      "combining all the mini rasters\n",
      "0.0% writing 1132-42_raster.tif\n",
      "598 files to do\n",
      "reading ../sb_tab/1133-12.tab 102.585 x 1000 triangles\n",
      "create mini rasters\n",
      "9.75% 19.5% 29.24% 38.99% 48.74% 58.49% 68.24% 77.98% 87.73% 97.48% \n",
      "combining all the mini rasters\n",
      "0.0% 10.98% 21.95% 32.93% 43.91% 54.88% 65.86% 76.83% 87.81% 98.79% writing 1133-12_raster.tif\n",
      "597 files to do\n",
      "reading ../sb_tab/1133-22.tab 43.182 x 1000 triangles\n",
      "create mini rasters\n",
      "23.16% 46.32% 69.47% 92.63% \n",
      "combining all the mini rasters\n",
      "0.0% 26.08% 52.15% 78.23% writing 1133-22_raster.tif\n",
      "596 files to do\n",
      "reading ../sb_tab/1133-32.tab 4.535 x 1000 triangles\n",
      "create mini rasters\n",
      "\n",
      "combining all the mini rasters\n",
      "0.0% writing 1133-32_raster.tif\n",
      "595 files to do\n",
      "reading ../sb_tab/1133-42.tab 57.588 x 1000 triangles\n",
      "create mini rasters\n",
      "17.36% 34.73% 52.09% 69.46% 86.82% \n",
      "combining all the mini rasters\n",
      "0.0% 18.87% 37.75% 56.62% 75.49% 94.37% writing 1133-42_raster.tif\n",
      "594 files to do\n",
      "reading ../sb_tab/1134-12.tab 10.312 x 1000 triangles\n",
      "create mini rasters\n",
      "96.97% \n",
      "combining all the mini rasters\n",
      "0.0% 94.7% writing 1134-12_raster.tif\n",
      "593 files to do\n",
      "reading ../sb_tab/1134-22.tab 71.804 x 1000 triangles\n",
      "create mini rasters\n",
      "13.93% 27.85% 41.78% 55.71% 69.63% 83.56% 97.49% \n",
      "combining all the mini rasters\n",
      "0.0% 11.95% 23.89% 35.84% 47.78% 59.73% 71.68% 83.62% 95.57% writing 1134-22_raster.tif\n",
      "592 files to do\n",
      "reading ../sb_tab/1134-32.tab 46.182 x 1000 triangles\n",
      "create mini rasters\n",
      "21.65% 43.31% 64.96% 86.61% \n",
      "combining all the mini rasters\n",
      "0.0% 21.13% 42.26% 63.39% 84.52% writing 1134-32_raster.tif\n",
      "591 files to do\n",
      "reading ../sb_tab/1134-42.tab 52.693 x 1000 triangles\n",
      "create mini rasters\n",
      "18.98% 37.96% 56.93% 75.91% 94.89% \n",
      "combining all the mini rasters\n",
      "0.0% 16.6% 33.2% 49.8% 66.4% 82.99% 99.59% writing 1134-42_raster.tif\n",
      "590 files to do\n",
      "reading ../sb_tab/1135-12.tab 65.01 x 1000 triangles\n",
      "create mini rasters\n",
      "15.38% 30.76% 46.15% 61.53% 76.91% 92.29% \n",
      "combining all the mini rasters\n",
      "0.0% 15.79% 31.58% 47.36% 63.15% 78.94% 94.73% writing 1135-12_raster.tif\n",
      "589 files to do\n",
      "reading ../sb_tab/1135-22.tab 79.305 x 1000 triangles\n",
      "create mini rasters\n",
      "12.61% 25.22% 37.83% 50.44% 63.05% 75.66% 88.27% \n",
      "combining all the mini rasters\n",
      "0.0% 11.09% 22.17% 33.26% 44.35% 55.44% 66.52% 77.61% 88.7% 99.78% writing 1135-22_raster.tif\n",
      "588 files to do\n",
      "reading ../sb_tab/1135-32.tab 1.773 x 1000 triangles\n",
      "create mini rasters\n",
      "\n",
      "combining all the mini rasters\n",
      "0.0% writing 1135-32_raster.tif\n",
      "587 files to do\n",
      "reading ../sb_tab/1135-42.tab 189.996 x 1000 triangles\n",
      "create mini rasters\n",
      "5.26% 10.53% 15.79% 21.05% 26.32% 31.58% 36.84% 42.11% 47.37% 52.63% 57.9% 63.16% 68.42% 73.69% 78.95% 84.21% 89.48% 94.74% \n",
      "combining all the mini rasters\n",
      "0.0% 4.63% 9.26% 13.89% 18.52% 23.14% 27.77% 32.4% 37.03% 41.66% 46.29% 50.92% 55.55% 60.18% "
     ]
    }
   ],
   "source": [
    "# MAIN\n",
    "while True:\n",
    "    tag = get_tag_todo()\n",
    "    if tag is not None:\n",
    "        # Create list of mini dataframes\n",
    "        ldf = get_df_list(f'../sb_tab/{tag}.tab')\n",
    "\n",
    "        # Create empty raster\n",
    "        big = get_big_empty(ldf)\n",
    "\n",
    "        print('\\ncombining all the mini rasters')\n",
    "        for i, small in enumerate(ldf):\n",
    "            mio.show_perc(i, len(ldf), 2_000)\n",
    "            xmin, xmax = small.columns.min(), small.columns.max()\n",
    "            ymin, ymax = small.index.min(), small.index.max()\n",
    "            big.loc[ymax:ymin, xmin:xmax] = np.maximum(big.loc[ymax:ymin, xmin:xmax], small)\n",
    "\n",
    "        # Save raster file\n",
    "        print(f'writing {tag}_raster.tif')\n",
    "        res = (big.fillna(0) + 0.5).astype('int16')\n",
    "        mio.write_raster(res, f'../sb_tif/{tag}_raster.tif')\n",
    "        time.sleep(10)"
   ]
  },
  {
   "cell_type": "code",
   "execution_count": null,
   "metadata": {},
   "outputs": [],
   "source": []
  },
  {
   "cell_type": "code",
   "execution_count": null,
   "metadata": {},
   "outputs": [],
   "source": []
  },
  {
   "cell_type": "code",
   "execution_count": null,
   "metadata": {},
   "outputs": [],
   "source": []
  },
  {
   "cell_type": "code",
   "execution_count": null,
   "metadata": {},
   "outputs": [],
   "source": []
  },
  {
   "cell_type": "code",
   "execution_count": null,
   "metadata": {},
   "outputs": [],
   "source": []
  }
 ],
 "metadata": {
  "kernelspec": {
   "display_name": "Python 3",
   "language": "python",
   "name": "python3"
  },
  "language_info": {
   "codemirror_mode": {
    "name": "ipython",
    "version": 3
   },
   "file_extension": ".py",
   "mimetype": "text/x-python",
   "name": "python",
   "nbconvert_exporter": "python",
   "pygments_lexer": "ipython3",
   "version": "3.7.1"
  }
 },
 "nbformat": 4,
 "nbformat_minor": 2
}
